{
 "cells": [
  {
   "cell_type": "markdown",
   "metadata": {
    "extensions": {
     "jupyter_dashboards": {
      "version": 1,
      "views": {
       "grid_default": {
        "col": 4,
        "height": 4,
        "hidden": false,
        "row": 0,
        "width": 4
       },
       "report_default": {
        "hidden": false
       }
      }
     }
    }
   },
   "source": [
    "## Notebook for topic-modellering av \"kvindernes mening om 'kvindernes underkuelse'\"\n",
    "Utviklet av Lars B.G. Johnsen"
   ]
  },
  {
   "cell_type": "markdown",
   "metadata": {
    "extensions": {
     "jupyter_dashboards": {
      "version": 1,
      "views": {
       "grid_default": {
        "col": 8,
        "height": 4,
        "hidden": false,
        "row": 16,
        "width": 4
       },
       "report_default": {
        "hidden": true
       }
      }
     }
    }
   },
   "source": [
    "Litt boilerplate import"
   ]
  },
  {
   "cell_type": "code",
   "execution_count": 1,
   "metadata": {
    "extensions": {
     "jupyter_dashboards": {
      "version": 1,
      "views": {
       "grid_default": {
        "hidden": true
       },
       "report_default": {
        "hidden": true
       }
      }
     }
    }
   },
   "outputs": [],
   "source": [
    "import topicmodelling as tm\n",
    "import imp\n",
    "import util\n",
    "from bs4 import BeautifulSoup\n",
    "import fork_kombo as fk\n",
    "import matplotlib.pyplot as plt\n",
    "%matplotlib inline"
   ]
  },
  {
   "cell_type": "markdown",
   "metadata": {
    "extensions": {
     "jupyter_dashboards": {
      "version": 1,
      "views": {
       "grid_default": {
        "col": 0,
        "height": 5,
        "hidden": false,
        "row": 205,
        "width": 12
       },
       "report_default": {
        "hidden": false
       }
      }
     }
    }
   },
   "source": [
    "### Hent selve teksten:\n",
    "\n"
   ]
  },
  {
   "cell_type": "code",
   "execution_count": 2,
   "metadata": {},
   "outputs": [],
   "source": [
    "my_corpus=['Kvindernes_mening_om_Kvindernes_underkuelse.txt']"
   ]
  },
  {
   "cell_type": "markdown",
   "metadata": {},
   "source": [
    "### Bygging av korpuset:"
   ]
  },
  {
   "cell_type": "code",
   "execution_count": 3,
   "metadata": {},
   "outputs": [],
   "source": [
    "corpus=[]\n",
    "for filename in my_corpus:\n",
    "    text = open(filename, encoding='utf-8').read()\n",
    "    for paragraph in text.split('\\n\\n'):\n",
    "        corpus.append(paragraph.split())\n"
   ]
  },
  {
   "cell_type": "code",
   "execution_count": 4,
   "metadata": {},
   "outputs": [
    {
     "name": "stdout",
     "output_type": "stream",
     "text": [
      "[['Kvindernes', 'Mening', 'om', '“Kvindernes', 'Underkuelse”', 'Den', 'cerbodige', 'Taushed,', 'som', 'har', 'hersket', 'i', 'vort', 'Land', 'lige', 'overfor', 'John', 'Stuart', 'Mill', 'og', 'hans', 'Vcerk', 'indtil', 'nu,', 'er', 'endelig', 'blevet', 'afbrudt,', 'en', 'Kvinde', 'har', 'oploftet', 'Rosten', 'og', 'talt.', 'Vi', 'hilse', 'hende', 'som', 'en', 'kjcer', 'Soster;', 'det', 'er', 'glcedeligt', 'at', 'hore', 'hende', 'tale', 'og', 'at', 'se', 'hendes', 'Holdning.', 'Hun', 'staar', 'i', 'utvungen', 'og', 'opreist', 'Stilling', 'i', 'Folelsen', 'af', 'sin', 'Menneskevcerdighed,', 'og', 'man', 'horer', 'en', 'blod,', 'klar,', 'kvindelig', 'Rost.', 'Denne', 'Kvinde', 'maa', 'vcere', 'saa', 'ung,', 'at', 'hendes', 'Bevidsthed', 'og', 'Tankeliv', 'har', 'udfoldet', 'sig', 'efter', 'at', 'Loven', 'har', 'erklceret', 'Kvinderne', 'myndige.', 'Havde', 'hendes', 'Bevidsthed', 'vceret', 'vaagen', 'inden', 'dette', 'Tidspunkt,', 'medens', 'det', 'lammende', 'og', 'fornedrende', 'jernaag', 'endnu', 'laa', 'over', 'os,', 'da', 'maatte', 'hun', 'bcere', 'Mcerke', 'enten', 'af', 'Trceldomsaand', 'med', 'tilhorende', 'Kryben', 'og', 'Smigren', 'for', 'Mcendene,', 'eller', 'af', 'den', 'Bitterhed', 'og', 'dybe', 'Harme,', 'hvormed', 'hun', 'havde', 'folt', 'Trykket,', 'og', 'disse', 'Folelser', 'maatte', 'da', 'have', 'forvandlet', 'sig', 'til', 'den', 'varmeste', 'og', 'inderligste', 'Taknemmelighed', 'mod', 'Befrieren,', 'den', 'mcegtige', 'John', 'Stuart', 'Mill,', 'som', 'med', 'overmenneskelig', 'Kraft', 'udsivnger', 'sine', 'Kastevaaben', 'mod', 'alle', 'Fordommens', 'Fcestningsvcerter.', 'Men', 'da', 'denne', 'Kvinde', 'udtaler', 'en', 'Protest,', 'en', 'blot', 'og', 'bar', 'Protest,', 'uden', 'endog', 'et', 'Stcenk', 'af', 'Beundring', 'for', 'denne', 'hoihjertede', 'og', 'herlige', 'Tcenker,', 'saa', 'vilde', 'det', 'vcere', 'en', 'altfor', 'stor', 'Feighed,', 'ikke', 'at', 'lade', 'se', 'et', 'Glimt', 'af', 'det', 'Indre', 'i', 'en', 'anden', 'Afdeling', 'af', 'Kvindernes', 'Leir.', 'Den', 'Kvinde,', 'hvis', 'Ytringer', 'har', 'fremkaldt', 'ncervcerende', 'Udtalelse,', 'er', 'engstelig', 'for', 'Tidsaanden', 'og', 'vil', 'gjore', 'den', 'Modstand;', 'men', 'det', 'er', 'dog', 'fordi', 'at', 'denne', 'Aand', 'allerede', 'har', 'havet', 'hende', 'paa', 'sine', 'brede', 'Vinger,', 'at', 'hun', 'kan', 'at', 'hun', 'undres', 'paa,', 'hvad', 'man', 'nu', 'merc', 'kan', 'ville.', 'Men', 'jeg,', 'som', 'skriver', 'dette,', 'kan', 'tale', 'om', 'hvorledes', 'vi', 'aandede', 'og', 'hvorledes', 'vi', 'folte', 'os,', 'for', 'Tidsaandens', 'Virkninger', 'naaede', 'os.', 'For', 'at', 'give', 'et', 'Begreb', 'derom', 'vil', 'jeg', 'hidscette', 'nogle', 'Uddrag', 'af', 'et', 'Brev,', 'som', 'faldt', 'mig', 'ihcende', 'for', 'nogen', 'Tid', 'siden,', 'da', 'jeg', 'sogte', 'mellem', 'gamle', 'Papirer;', 'det', 'er', 'fra', 'en', 'Ungdomsveninde,', 'som', 'forlcengst', 'har', 'forladt', 'denne', 'Jord.', 'Det', 'er', 'skrevet', 'i', 'Tidsrummet', '1840—1850”).', '“Er', 'det', 'ikke', 'Uret,', 'at', 'Damerne', 'skulle', 'betragtes', 'som', 'ufornuftige', 'Dyr,', 'som', 'aldrig', 'kan', 'blive', 'myndige,', 'som', 'kun', 'skal', 'vcere', 'smukt', 'Legetoi', 'for', 'Manden.', 'Men', 'jeg', 'vil', 'ikke,', 'det', 'skal', 'vcere', 'saa;', 'jeg', 'vil', 'vcere', 'fri.', 'Jeg', 'kan', 'erncere', 'mig', 'felv,', 'jeg', 'behover', 'ilte', 'at', 'vcere', 'afhcengig', 'af', 'denne', 'dumme', 'Verden,', 'som', 'er', 'saa', 'fuld', 'af', 'Fordomme.', 'Ved', 'Du', 'vel,', 'at', 'Du', 'uretfcerdigen', 'fordommer', 'Fourier?', 'Du', 'skulde', 'lcese', 'hans', 'Skrifter,', 'saa', 'skulde', 'Du', 'komme', 'til', 'at', 'elske', 'ham.', 'Han', 'lader', 'Damerne', 'vederfares', 'Ret;', 'han', 'lader', 'Damer', 'og', 'Herrer', 'have', 'lige', 'Ret;', 'han', 'vil,', 'at', 'den', 'ene', 'saa', 'velsom', 'den', 'anden', 'stal', 'uddanne', 'de', 'Talenter,', 'som', 'Naturen', 'har', 'nedlagt', 'hos', 'dem.', 'Dersom', 'Du', 'lceste', 'ham,', 'saa', 'vilde', 'Du', 'igjen', 'fatte', 'Mod,', 'Du', 'vilde', 'hceves', 'i', 'Dine', 'egne', 'Dine,', 'Du', 'vilde', 'se,', 'at', 'ikke', 'Du,', 'ikke', 'nogen', 'Dame', 'var', 'det', 'usle', 'Vcesen,', 'kun', 'skadt', 'til', 'at', 'sy', 'og', 'lave', 'Mad,', 'som', 'Verden', 'har', 'villet', 'gjore', 'os', 'til.', 'Jo', 'mere', 'Kulturen', 'har', 'steget,', 'jo', 'mere', 'er', 'man', 'kommet', 'til', 'den', 'Overbevisning.', 'Udryd', 'Dine', 'Fordomme', 'mod', 'Fourier,', 'saa', 'skal', 'vi', 'tales', 'ved', 'siden', 'om', 'ham,', 'saa', 'skal', 'Du', 'se,', 'Du', 'skal', 'blive', 'som', 'jeg,', 'den', 'ivrigste', 'Fourierist,', 'Men', 'det', 'er', 'et', 'Bevis', 'paa', 'min', 'store', 'Tillid', 'til', 'Dig,', 'at', 'jeg', 'har', 'skrevet', 'Dig', 'dette', 'til.', 'Lad', 'ikke', 'et', 'Ord', 'deraf', 'komme', 'for', 'Nogens', 'Oine', 'eller', 'Oren,', 'det', 'vilde', 'skade', 'os', 'Begge.', 'Ti,', 'for', 'Guds', 'Skyld,', 'ti!', 'Jeg', 'voger', 'kun', 'at', 'sige', 'Dig,', 'hvad', 'jeg', 'har', 'sagt', 'Dig,', 'fordi', 'jeg', 'mcerkede,', 'Du', 'var', 'nedslaaet,', 'at', 'Du', 'led', 'under', 'Aaget.', 'Jeg', 'vil', 'saa', 'gjerne', 'hore,', 'hvad', 'Du', 'tcenker', 'om', 'dette', 'Brev,', 'som', 'Du', 'maa', 'vide', 'jeg', 'er', 'ganske', 'engstelig', 'ved', 'at', 'sende', 'Dig.', 'Dersom', 'det', 'har', 'opmuntret', 'Dig,', 'saa', 'er', 'jeg', 'lonnet,', 'saa', 'ser', 'jeg', 'en', 'gladere', 'Fremtid', 'for', 'Dig', 'og', 'mig.', 'Efter', 'den', 'cengstelige', 'Tone,', 'som', 'gaar', 'igjennem', 'dette,', 'skulde', 'man', 'tro,', 'at', 'det', 'var', 'skrevet', 'i', 'Rusland', 'for', 'halv', 'hundrede', 'Aar', 'siden,', 'med', 'en', 'truende', 'Udsigt', 'til', 'Sibirien', 'i', 'Baggrunden.', 'Med', 'hvillen', 'Jubel', 'vilde', 'ikke', 'denne', 'unge', 'Pige', 'have', 'hilset', 'John', 'Stuart', 'Mill', 'som', 'en', 'Befrier!', 'Kvinderne', 'har', 'med', 'stor', 'Anstand', 'baaret', 'deres', 'Aag.', 'De', 'have', 'neppe', 'indbyrdes', 'ytret', 'til', 'hverandre', 'den', 'Lidelse,', 'de', 'folte;', 'thi', 'man', 'var', 'for', 'stolt', 'til', 'at', 'vise', 'afmcegtig', 'Harme.', 'Det', 'var', 'forst', 'lcenge', 'efter', 'at', 'Loven', 'havde', 'begyndt', 'at', 'vise', 'os', 'Retfcerdighed,', 'at', 'jeg', 'engang', 'ytrede', 'til', 'en', 'ncer', 'Slcegtning:', '«Det', 'har', 'kogt', 'i', 'mig', 'fra', 'Barndom', 'og', 'fik', 'det', 'Svar:', '„Det', 'har', 'nok', 'kogt', 'i', 'Alle\".', 'Denne', 'Anstand', 'har', 'vceret', 'saa', 'stor,', 'at', 'selv', 'intelligente', 'Mcend', 'har', 'en', 'meget', 'uklar', 'Forestilling', 'om,', 'hvorvidt', 'Kvinderne', 'har', 'opfattet', 'den', 'store', 'Forandring,', 'som', 'deres', 'Stilling', 'i', 'Samfundet', 'har', 'faaet,', 'og', 'som', 'den', 'mere', 'og', 'mere', 'vil', 'faa.', 'lalfald', 'staa', 'de', 'i', 'den', 'Indbildning,', 'at', 'den', 'er', 'dem', 'fuldlommen', 'ligegyldig.', 'Disse', 'Linjer', 'vil', 'give', 'dem', 'en', 'Anelse', 'om,', 'at', 'dette', 'ikke', 'altid', 'er', 'Tilfceldet.', 'Med', 'Hensyn', 'til', 'den', 'i', 'den', 'kvindelige', 'Protest', 'udtalte', 'Engstelse', 'for,', 'at', 'Guds', 'Anordning', 'stal', 'blive', 'krcenket', 'ved', 'John', 'Stuart', 'Mills', 'Ideer,', 'vil', 'jeg', 'kun', 'bemcerke,', 'at', 'det', 'vist', 'ikke', 'kan', 'stride', 'mere', 'ved', 'Guds', 'Anordning,', 'at', 'en', 'trælbunden', 'Kvinde', 'bliver', 'en', 'fri', 'Kvinde,', 'end', 'at', 'en', 'trælbunden', 'Mand', 'bliver', 'en', 'fri', 'Mand.', 'Jeg', 'vil', 'blot', 'i', 'Forbigaaende', 'ncevne', 'Livegenstabet', 'i', 'Rusland,', 'som', 'forst', 'ganske', 'nylig', 'er', 'blevet', 'ophcevet.', 'Det', 'er', 'dog', 'vist', 'ikke', 'mod', 'Guds', 'Villie,', 'at', 'det', 'er', 'skeet.', 'Og', 'dog', 'tror', 'jeg', 'ikke,', 'at', '«Gud', 'har', 'vceret', 'saa', 'aldeles', 'udenfor', 'Verdens', 'og', 'Begivenhedernes', 'Gang,', 'fordi', 'der', 'har', 'vceret', 'Trcellestand', 'i', 'alle,', 'eller', 'ialfald', 'i', 'mange', 'af', 'de', 'europceiske', 'Stater,', 'saa', 'langt', 'tilbage,', 'som', 'deres', 'Historie', 'rcekker.', 'Jeg', 'er', 'meget', 'mere', 'over', 'bevist', 'om,', 'at', 'det', 'er', 'ved', 'Guds', 'og', 'Kristendommens', 'Indvirkning,', 'at', 'Menneskeheden', 'endelig', 'er', 'kommen', 'saa', 'vidt', 'i', 'Mennestelighed,', 'at', 'saadanne', 'Tilstande', 'ikke', 'mere', 'kan', 'beståa.', 'Men', 'vi', 'maa', 'kaste', 'Bliktet', 'tilbaage', 'for', 'at', 'forståa', 'Bevcegelsen', 'i', 'Oieblikket.', 'Det', 'forholder', 'sig', 'nemlig', 'saaledes,', 'at', 'Ufrihed', 'og', 'Trceldomsaand', 'gjennemtrcengte', 'alle', 'Forhold', 'i', 'det', 'forrige', 'Aarhundrede:', 'Forholdet', 'mellem', 'Konge', 'og', 'Undersaat,', 'Herremand', 'og', 'livegen,', 'mellem', 'Foresatte', 'og', 'Undergivne,', 'Herre', 'og', 'Tjener,', 'mellem', 'Forceldre', 'og', 'Born,', 'mellem', 'Mand', 'og', 'Kvinde.', 'Alle', 'disse', 'Forhold', 'har', 'Tidsaanben', 'nu', 'i', 'snart', 'et', 'Aarhundrede', 'arbeidet', 'paa', 'at', 'gjennemtrcenge', 'med', 'den', 'Bevidsthed', 'at', 'i', 'dem', 'alle', 'staar', 'Menneske', 'mod', 'Menneske.', 'Scnest', 'er', 'Raden', 'kommet', 'til', 'Forholdet', 'mellem', 'Mand', 'og', 'Kvinde,', 'og', 'dette', 'Forhold,', 'der', 'er', 'det', 'mest', 'omfattende', 'af', 'dem', 'alle,', 'maa', 'nu', 'med', 'uundgaaelig', 'Nodvendighed', 'forvandles', 'ved', 'den', 'samme', 'Aand,', 'som', 'allerede', 'har', 'humaniseret', 'alle', 'de', 'andre.', 'Protesten', 'ytrer:', 'at', 'vor', 'Gjerning', 'og', 'Bestemmelse,', 'saaledes', 'som', 'den', 'nu', 'er', 'og', 'har', 'vceret', 'gjennem', 'lange', 'Tiber,', 'ingenlunde', 'er', 'liden', 'og', 'übetydelig,', 'men', 'saare', 'stor', 'og', 'stjon,', 'og', 'vil', 'give', 'os', 'fuldlommen', 'nok', 'at', 'gjore,', 'kort,', 'ovtage', 'os', 'fuldkommen', 'med', 'alle', 'vore', 'aanbelige', 'og', 'legemlige', 'Krcefter', 'hvis', 'vi', 'skulde', 'fyldestgjore', 'Guds', 'Villie', 'og', 'vor', 'egen', 'Bevidsthed.', 'Nåar', 'Protestens', 'forfatterinde', 'med', 'disse', 'Ord', 'vil', 'betegne', 'Tidsaandens', 'Omvceltninger', 'som', 'unodige,', 'ja', 'endogsaa', 'som', 'stridende', 'mod', 'Kvindens', 'sande', 'Bestemmelse,', 'da', 'er', 'hun', 'aabenbart', 'ubekjendt', 'med', 'de', 'virkelige', 'Forhold,', 'eller', 'maaske', 'rettere', 'Fordomme,', 'saaledes', 'som', 'de', 'har', 'vceret', 'gjennem', 'lange', 'Tider,', 'der', 'indtil', 'det', 'Utrolige', 'modsatte', 'sig,', 'at', 'nogen', 'stjon', 'Bestemmelse', 'kom', 'tilsyne,', 'og', 'som', 'vare', 'Mede', 'til', 'at', 'forlroble', 'vor', 'Bevidsthed.', 'For', 'at', 'begrunde', 'denne', 'Paastand', 'vil', 'jeg', 'erindre', 'om', 'at', 'det', 'kun', 'er', 'femogtyve', 'Aar', 'siden', 'at', 'Loven', 'stemplede', 'os', 'som', 'ufornuftige', 'Skabninger', 'og', 'derved', 'indirekte', 'udelukede', 'os', 'fra', 'enhver', 'Virksomhed;', 'thi', 'hvad', 'Gjerning', 'kan', 'der', 'betroes', 'en', 'ufornuftig', 'Skabning?', 'Med', 'Hensyn', 'til', 'Eiendom,', 'Frihed', 'og', 'Rettigheder', 'satte', 'Loven', 'Kvinden', 'paa', 'samme', 'Trin', 'som', 'et', 'spcedt', 'Barn,', 'og', 'hun', 'kunde', 'i', 'hele', 'sit', 'Liv', 'aldrig', 'naa', 'over', 'dette', 'Lavmaal', 'af', 'menneskelig', 'tilvcerelse.', 'Kun', 'gjennem', 'Straffeloven', 'robede', 'de', 'Herrer', 'Lovgivere,', 'at', 'de', 'meget', 'godt', 'vidste,', 'at', 'hun', 'var', 'et', 'fornuftigt', 'Vcesen,', 'hvem', 'fuldt', 'moralsk', 'Ansvar', 'kunde', 'paalcegges;', 'hun', 'kunde', 'nemlig', 'opnaa', 'at', 'faa', 'samme', 'Straf', 'fom', 'Manden,', 'hvis', 'hun', 'forovede', 'nogen', 'Forbrydelse.', 'At', 'hun', 'som', 'Moder', 'havde', 'nogen', 'Myndighed,', 'kunde', 'jo', 'ingen', 'Lov', 'forhindre,', 'men', 'den', 'kunde', 'ved', 'at', 'nedvcerdige', 'hende', 'saameget', 'som', 'muligt', 'i', 'hendes', 'egne', 'og', 'andres', 'Oine', 'svcekke', 'hendes', 'Indflydelse', 'ogsaa', 'paa', 'dette', 'Felt.'], ['Det', 'er', 'ikke', 'min', 'Mening', 'at', 'ville', 'beskylde', 'de', 'Herrer', 'Lovgivere', 'for', 'nogen', 'udsogt', 'Ondstab', 'mod', 'Kvinderne;', 'den', 'Lov,', 'som', 'gjceldte', 'indtil', 'for', '25', 'Aar', 'siden,', 'og', 'som', 'berovede', 'os', 'Frihed', 'og', 'Rettigheder', 'og', 'derimod', 'tildelte', 'os', 'Straf', 'i', 'fuldt', 'Maal,', 'var', 'blevet', 'staaende', 'fra', 'det', 'forrige', 'Aarhundrede,', 'da', 'den', 'var', 'i', 'Overensstemmelse', 'med', 'alle', 'andre', 'gjceldende', 'Love,', 'da', 'Trceldom', 'og', 'Slovhed', 'herskede', 'paa', 'alle', 'Kanter', 'og', 'ethvert', 'Forhold', 'var', 'indrettet', 'efter', 'det', 'Princip,', 'at', 'den', 'Stcerkere', 'trykker', 'og', 'misbruger', 'den', 'Svagere', 'saameget', 'han', 'formaar.', 'Men', 'derved,', 'at', 'alle', 'andre', 'Forhold', 'bleve', 'omdannede', 'ved', 'dette', 'Aarhundreves', 'friere', 'Ideer', 'og', 'humanere', 'Aand,', 'medens', 'Kvinderne', 'blev', 'staaende', 'i', 'sin', 'gamle', 'Stilling', 'under', 'Aaget,', 'der', 'ved', 'blev', 'Uretfcerdigheden', 'stigende,', 'og', 'blev', 'Begreberne', 'forvirrede.', 'Om', 'Begrebernes', 'Forvirring', 'stal', 'jeg', 'senere', 'udtale', 'mig', 'mere.', 'Jeg', 'vender', 'nu', 'tilbage', 'til', 'Protesten', 'og', 'dens', 'Forfatterinde.', 'Hvillen', 'Maalestok', 'er', 'ikke', 'selve', 'denne', 'Protest', 'for', 'Tidsaandens', 'mcegtige', 'Virkning!', 'Er', 'det', 'ikke', 'mcrrkeligt', 'at', 'sammenligne', 'den', 'Frimodighed,', 'hvormed', 'den', 'konservative', 'Kvinde', 'i', '1870', 'skriver', 'i', 'Morgenbladet,', 'med', 'den', 'pinlige', 'Engstelighed,', 'hvormed', 'den', 'revolutioncere', 'Pige', 'i', '183—', 'skrider', 'et', 'Brev', 'til', 'sin', 'Veninde?!', 'Den', 'Frimodighed', 'er', 'fremdeles', 'at', 'lcegge', 'Mcerke', 'til,', 'hvormed', 'hun', 'anser', 'Hustruen', 'som', 'selvskreven', 'til', 'at', 'vcere', 'Mandens', 'Raadgiverinde', 'i', 'vanskelige', 'Sager.', 'Hvorledes', 'kunde', 'den', 'myndige', 'og', 'ufornuftige', 'Skabning', 'fra', '1845', 'have', 'dristet', 'sig', 'til', 'det?', 'Den', 'Selvfolelse,', 'hvor', 'med', 'hun', 'siger', ':', '„I', 'Sandhed,', 'jeg', 'synes', 'at', 'Kvindens,', 'af', 'Gud', 'givne', 'Gjerning', 'og', 'Virksomhed', 'er', 'meget', 'storre', 'og', 'meget', 'mere', 'betydningsfuld', 'end', 'Mandens\",', 'hvorledes', 'skulde', 'det', 'svage', 'Vcesen,', 'der', 'blev', 'anseet', 'for', 'uduelig', 'til', 'endog', 'den', 'ringeste', 'Gjerning,', 'have', 'voget', 'en', 'saadan', 'Tale?', 'For', 'at', 'fort', 'scette', 'denne', 'Sammenligning', 'maa', 'jeg', 'atter', 'anfore', 'nogle', 'Ord', 'af', 'Protesten:', '«Det', 'kan', 'ille', 'vcere', 'blot', 'af', 'Vane,', 'at', 'Enhver', 'af', 'os', 'vilde', 'grue', 'for', 'at', 'se', 'en', 'Kjcer', 'af', 'Kvindekjonnet', 'optrcede', 'offentligt,', 'som', 'f.', 'Ex.', 'Storthingsreprcesentant,', 'Advokat', 'eller', 'Lignende;', 'er', 'det', 'ille', 'virkeligt', 'saa,', 'at', 'vi', 'vilde', 'grue', 'for', 'at', 'opleve', 'nogen', 'saadant?\"', 'Jeg', 'vil', 'forst', 'for', 'udstille', 'den', 'beroligende', 'Bemcerlning,', 'at', 'jeg', 'ikke', 'tror,', 'at', 'nogen', 'Kvinde', 'i', 'Norges', 'Land', 'attraar', 'Storthingsvirksomheden', 'eller', 'Advokaturen.', 'Men', 'hvad', 'Vanen', 'angaar,', 'da', 'er', 'det', 'saa', 'underligt', 'med', 'den;', 'det', 'er', 'nemlig', 'udenfor', 'al', 'Tvivl,', 'at', 'den', 'Protest', 'af', 'en', 'Kvinde,', 'trykt', 'i', 'Morgenbladet,', 'hvormed', 'hun', 'i', '1870', 'beviser', 'sin', 'Kvindelighed', 'og', 'sin', 'konservative', 'Tcenkemaade,', 'vilde', 'i', '1840', 'have', 'vakt', 'en', 'ligesaa', 'stor,', 'ja', 'meget', 'storre', 'Gru', 'end', 'vi', 'nu', 'vilde', 'fole', 'ved', 'at', 'faa', 'se', 'en', 'Kvinde', 'paa', 'Storlhingsbcenken', 'eller', 'hore', 'hende', 'fore', 'en', 'Sag', 'for', 'Skranken.', 'Beviset', 'herfor', 'kan', 'man', 'se', 'i', 'Wergelands', 'Brevvexling,', 'i', 'hvillen', 'man', 'vil', 'finde', 'et', ',', 'Brev', 'fra', 'Frederika', 'Bremer,', 'skrevet', 'sidstncevnte', 'Aar', 'for', 'at', 'forhore', 'sig', 'om', 'norske', 'Forhold,', 'da', 'hun', 'vilde', 'digte', 'en', 'Fortcrlling', 'fom', 'skulde', 'foregaa', 'i', 'Norge.', 'Hun', 'sporger', 'om', 'det', 'kan', 'gaa', 'an', 'at', 'skildre', 'en', 'ung', 'norsk', 'Pige,', 'som', 'interesserer', 'sig', 'for', 'noget', 'mere', 'end', 'Silkebaand', 'og', 'Smorrebrod.', 'Her', 'til', 'svarer', 'Wergeland:', 'Nei,', 'det', 'kan', 'ikke', 'gaa', 'an.', 'Han', 'havde', 'selv', 'vceret', 'tilstede', 'i', 'et', 'Selskab', 'hvor', 'en', 'af', 'Damerne', 'havde', 'gjort', 'en', 'Bemcerlning,', 'som', 'robede', 'et', 'tcenkende', 'Vcesen,', 'og', 'da', 'havde', 'Herrerne', 'tydelig', 'vist,', 'at', 'de', 'havde', 'en', 'pinlig', 'Fornemmelse,', 'og', 'Damerne', 'havde', 'faaet', 'en', 'ren', 'Skrcek.', 'Begge', 'Parter', 'havde', 'aabenbart', 'ogsaa', 'folt', 'en', 'Gru.', 'Der,', 'gaves', 'naturligvis', 'ogsaa', 'dengang', 'Kvinder', 'baade\"', 'For', 'yngre', 'og', 'celdre,', 'som', 'interesserede', 'sig', 'for', 'noget', 'hoiere', 'end', 'Silkebaand', 'og', 'Smorrebrod,', 'men', 'det', 'maatte', 'omhyggelig', 'skjules,', 'ikke', 'robes', 'med', 'mindste', 'Ord', 'eller', 'Gjerning.', 'Man', 'tcenke', 'sig', 'at', 'leve', 'under', 'et', 'saadant', 'Tryll', 'O,', 'du', 'protesterende', 'Kvinde,', 'lovpris', 'dog', 'heller', 'den', 'livsalige', 'Tidsaand,', 'som', 'befrier', 'os', 'fra', 'saadanne', 'Forsmcedelser!', 'Men', 'det', 'kan', 'nu', 'vcere', 'paa', 'tide', 'at', 'gjore', 'en', 'Indrommelse.', 'Det', 'kan', 'jo', 'ikle', 'ncegtes,', 'at', 'John', 'Stuart', 'Mill', 'er', 'radikal', 'til', 'det', 'yderste.', 'Han', 'fordrer', 'mere', 'for', 'Kvinderne', 'end', 'nogcn', 'Kvinde', 'nogen', 'sinde', 'vilde', 'have', 'fordrct.', 'Han', 'viser', 'en', 'Selvfornegtelse,', 'som', 'maa', 'forbause;', 'det', 'er', 'hans', 'eget', 'Kjon,', 'som', 'han', 'med', 'fast', 'Hcnjnd', 'afrivcr', 'alle', 'Distinktioner', 'og', 'Skulderprydelser.', 'Han', 'lader', 'Mcendene', 'ikke', 'en', 'Krog', 'tilbage', 'hvor', 'de', 'kunne', 'flygte', 'hen', 'med', 'en', 'Levning', 'af', 'Selvgodhed.', 'Mod', 'de', 'udstralte,', 'bombefaste', 'Fcestningsvcerter,', 'bag', 'hvilke', 'Manden', 'sidder', 'trygt', 'i', 'sin', 'Overhoihed,', 'farcr', 'han', 'frem', 'med', 'Harmens', 'Begeistring,', 'med', 'en', 'bydende', 'Magt', 'i', 'Villien,', 'og', 'raaber:', '„Ned,', 'ned.', 'ned', 'med', 'An', 'Murene!', 'Lad', 'ikke', 'en', 'Sten', 'blive', 'tilbage!\"', 'ligesom', 'hin', 'Folkehob', 'i', 'Paris,', 'der', 'stormede', 'Bastillen.', 'Men', 'lige', 'saavist', 'som', 'det', 'var', 'et', 'Guds', 'Veir,', 'der', 'kom', 'med', 'hin', 'Folkehob,', 'ligesaavist', 'er', 'det', 'et', 'Guds', 'Veir,', 'der', 'kommer', 'med', 'den', 'ene,', 'store,', 'John', 'Stuart', 'Mill.', 'Nu', 'kommer', 'vi', 'til', 'Midtpunktet', 'i', 'Sagen,', 'det,', 'hvorom', 'Protesten', 'egentlig', 'dreier', 'sig,', 'hvortil', 'den,', 'vil', 'stotte', 'sig.', 'Den', 'hellige', 'Strifts', 'Ord', 'fremfores', 'saaledes:', '„Kan', 'man', 'da', 'virkelig', 'have', 'glemt,', 'hvad', 'Gud', 'sagde,', 'da', 'Han', 'skable', 'Kvinden:', '«leg', 'vil', 'gjore', 'ham', '(Manden)', 'en', 'Medhjcelp,', 'som', 'kan', 'vcere', 'hos', 'ham\"', 'og', '„hun', 'skal', 'kaldes', 'Mandinde;', 'thi', 'hun', 'er', 'laget', 'af', 'Manden\",', 'og', 'han', 'skal', 'vcere', 'hendes', 'Herre?\"\"', 'Hertil', 'maa', 'bemcerkes', 'det', 'meget', 'Vcesentlige,', 'at', 'vistnot', 'sagde', 'Gud,', 'da', 'han', 'stabte', 'Kvinden:', '„Jeg', 'vil', 'gjore', 'ham', 'en', 'Medhjcelp,', 'som', 'kan', 'vcere', 'hos', 'ham\",', 'men', 'forst', 'efter', 'Syndefaldet', 'sagde', 'Herren:', '„han', '(Manden)', 'skal', 'herske', 'over', 'Dig.\"', 'Det', 'er', 'en', 'Del', 'af', 'den', 'Straf,', 'som', 'blev', 'hende', 'forkyndt', 'for', 'hendes', 'Ulydighed,', 'ligesom', 'en', 'Del', 'af', 'den', 'Straf', 'som', 'paalcegges', 'Manden', 'for', 'Hans', 'Ulydighed', 'forkyndes', 'saaledes:', '„Jorden', 'vorde', 'forbandet', 'for', 'din', 'Skyld\",', 'og', '„i', 'dit', 'Ansigts', 'Sved', 'skal', 'Du', 'cede', 'dit', 'Brod,', 'indtil', 'Du', 'bliver', 'Stov', 'igjen.\"', 'Det', 'har', 'ikke', 'vceret', 'et', 'tomt', 'Ord,', 'det', 'Herrens', '„han', 'skal', 'herske', 'over', 'Dig.\"', 'Mennesteslcegtens', 'Historie', 'viser', 'det.', 'Der', 'gives', 'en', 'Bog,', 'som', 'heder', 'Kvindens', 'Historie,', 'af', 'Fullom,', 'hvori', 'man', 'faar', 'en', 'samlet', 'Fremstilling', 'af', 'hvorledes', 'hun', 'har', 'vceret', 'tilsidesat,', 'trykket,', 'forfulgt,', 'mishandlet', 'og', 'nedvcerdiget', 'gjennem', 'Aarhundreder', 'og', 'gjennem', 'Aar', 'tusinder;', 'og', 'hvillen', 'Herskerstilling', 'Manden', 'har', 'iagttaget', 'lige', 'overfor', 'hende', 'lige', 'indtil', 'vore', 'Dage', 'har', 'jeg', 'paavist', 'i', 'det', 'Foregaaende.', 'Nåar', 'nu,', 'efterat', 'Straffedommen', 'saa', 'fyldelig', 'er', 'opfyldt,', 'der', 'kommer', 'Tidens', 'Tegn,', 'som', 'vise,', 'at', 'Herren', 'ihukommcr', 'sit', 'forste', 'Ord:', '„Jeg', 'vil', 'gjore', 'ham', 'en', 'Medhjcelp,', 'som', 'kan', 'vcere', 'hos', 'bam\",', 'hvad', 'Forfcerdeligt', 'er', 'der', 'da', 'deri?', 'Det', 'er', 'jo', 'kun', 'ved', 'at', 'befries', 'fra', 'Tryl', 'og', 'Forkuelse,', 'at', 'hun', 'i', 'Sandhed', 'kan', 'hcevde', 'sin', 'Stilling', 'som', 'Mandens', 'Hjcelperske,', 'saaledes', 'som', 'Protestens', 'Forfatterinde,', 'med', 'sand', 'kvindelig', 'Folelse,', 'saa', 'smukt', 'har', 'fremstillet', 'denne.', 'Kan', 'det', 'falde', 'Nogen', 'ind,', 'efter', 'at', 'det', 'Straffens', 'Ord', 'til', 'Manden:„lor', 'den', 'vorde', 'forbandet', 'for', 'din', 'Skyld\",', 'synes', 'at', 'vcere', 'opfyldt,', 'at', 'frygte', 'for', 'at', 'det', 'skulde', 'vcere', 'mod', 'Guds', 'Villie,', 'at', 'det', 'lykkes', 'Manden', 'ved', 'de', 'beundringsvcerdigste', 'Opsindelser', 'at', 'opfylde', 'Herrens', 'Ord,', 'da', 'han', 'skabte', 'Mennesket', 'i', 'sit', 'Billede,', '„Mand', 'og', 'Kvinde', 'skabde', 'han', 'dem\",', 'og', 'da', 'han', '..velsignede', 'dem', 'og', 'sagde', 'til', 'dem:', 'gjorer', 'Eder', 'Jorden', 'underdanig\\'?\"', 'Jeg', 'vil', 'til', 'Slutning', 'bede', 'Protesten', 'Forfatterinde', 'ikke', 'at', 'frygte', 'for', 'den', 'frigjorende', 'Aand,', 'som', 'viller', 'gjennem', 'denne', 'Tids', 'Bevcegelser,', 'ikke', 'at', 'mistcenleliggjore', 'den,', 'som', 'om', 'den', 'kom', 'fra', 'ham,', 'der', 'kan', 'ifore', 'sig', 'en', 'Lysets', 'Engels', 'Skikkelse', 'betcente,', 'at', 'Trceldom', 'horer', 'til', 'i', 'Morlets', 'Rige.', 'og', 'at', 'dets', 'Fyrste', 'kaldes', 'as', 'Profeten', 'Esaias', 'en', 'Tvran,', 'men', 'jeg', 'beder', 'hende', 'hellere', 'tro,', 'at', 'denne', 'Aand', 'vil', 'fremme', 'den', 'Frihedens', 'fuldtomne', 'Lov,', 'om', 'hvillen', 'Paulus', 'taler,', 'og', 'som', 'horer', 'hjemme', 'i', 'Lysets', 'Rige.', '-'], ['Da', 'den', 'Bevidsthcd,', 'at', 'i', 'vor', 'Tid', 'seired', 'Frihed', 'og', 'Humanitet,', 'daglig', 'blev', 'bestyrket', 'ved', 'Kjendsgjerninger,', 'da', 'man', 'saa,at', 'Almuens', 'Ret', 'til', 'Oplysning', 'blev', 'erkjendt,', 'at', 'man', 'bestrcebte', 'sig', 'for', 'at', 'forbedre', 'de', 'Fattiges', 'Kaar,', 'at', 'de', 'Vanvittige', 'bleve', 'behandlede', 'som', 'Syge', 'og', 'Lidende', 'istedetfor', 'at', 'indespcrrres', 'og', 'mishandles,', 'at', 'der', 'dannede', 'sig', 'Foreninger', 'til', 'Beskyttelse', 'for', 'Dyrene,', 'at', 'Samfundet', 'vaagede', 'over', 'at', 'selv', 'Forbryderne', 'bleve', 'menneskeligt', 'behandlede,', 'da', 'man', 'saa', 'alt', 'dette', 'ske', 'uden', 'at', 'Raden', 'endnu', 'var', 'kommet', 'til', 'Kvinderne,', 'bidrog', 'det', 'til', 'enda', 'mere', 'at', 'forvirre', 'Begreberne', 'om', 'Kvindens', 'Ret.', 'Den', 'Anskuelse', 'begyndte', 'at', 'scette', 'sig', 'fast', 'at', 'for', 'Kvinderne', 'kunde', 'der', 'aldrig', 'blive', 'Tale', 'om', 'nogen', 'Frihed,', 'og', 'at', 'deres', 'Stilling', 'selvfolgelig', 'aldrig', 'kunde', 'blive', 'anderledes', 'end', 'den', 'var.', 'At', 'Begrebet', 'om,', 'hvab', 'en', 'Kvinde', 'egentlig', 'var', 'for', 'et', 'Vcesen', 'herved', 'maatte', 'blive', 'forunderligt', 'uklart', 'og', 'utroligt', 'formorket,', 'er', 'indlysende.', 'Vel', 'har', 'der', 'til', 'alle', 'Tider', 'voeret', 'Digtere,', 'som', 'med', 'en', 'forbausende', 'Finhed', 'have', 'formaaet', 'at', 'opfatte', 'Kvindens', 'Vcesen', 'og', 'at', 'fremstille', 'hendes', 'Billede', 'med', 'Hoihed', 'og', 'Sljonhed,', 'ligesom', 'i', 'ingen', 'Henseende', 'Merket', 'har', 'vcrret', 'eneraadende', 'paa', 'Jorden;', 'der', 'er', 'altid', 'faldt', 'Straaler', 'fra', 'oven,', 'som', 'have', 'udbredt', 'et', 'mildt', 'Skin', 'hist', 'eller', 'her.', 'Men', 'da', 'Loven', 'ved', 'sine', 'Bestemmelser', 'tydeligt', 'viste,', 'at', 'den', 'ikke', 'delte', 'Digternes', 'Opfatning,', 'men', 'satte', 'hende', 'meget', 'lavt,', 'saa', 'kunde', 'dette', 'ikke', 'forandre', 'hendes', 'Stilling', 'i', 'det', 'daglige,', 'praktiske', 'Liv.', 'Kjokkenet', 'og', 'Synaalen', 'blev', 'hendes', 'Virlsomhed', 'overladt.', 'Mcendme', 'havde', 'ikke', 'noget', 'imod,', 'at', 'hun', 'lavede', 'deres', 'Mad', 'og', 'at', 'hun', 'syede', 'sine', 'egne', 'Klceder.', 'Men', 'her', 'viste', 'sig', 'Sandheden', 'af', 'det', 'gamle', 'Ordsprog,', 'at', 'Alle', 'ville', 'over,', 'hvor', 'Gjerdet', 'er', 'lavest;', 'thi', 'hun', 'blev', 'jkke', 'uanfegtet', 'i', 'sin', 'underordnede', 'Stilling.', 'Man', 'den', 'havde', 'altid', 'paa', 'rede', 'Haand', 'nogle', 'smaalige', 'Anklager', 'og', 'saarende', 'Stikkerier', 'om', 'hende,', 'der', 'skulde', 'vise', 'hende,', 'hvor', 'uduelig', 'og', 'svag', 'hun', 'var', 'og', 'hvor', 'hun', 'var', 'behcengt', 'med', 'Feil', 'og', 'Skrobelighcder,', 'hvorimod', 'hans', 'egne', 'ofte', 'temmelig', 'paatagelige', 'Feil', 'blot', 'vare', 'ligesaa', 'mange', 'glimrende', 'Egenskaber.', 'Den', 'stakkels', 'Kvinde', 'gjentog', 'I', 'begge', 'Dele', 'etter', 'ham.', 'Jeg', 'ncevnte', 'i', 'Begyndelsen', 'av', 'denne', 'Artikel', 'denne', 'Kryben', 'og', 'Smigren', 'for', 'Mcendene,', 'og', 'vil', 'nu,', 'for', 'at', 'anfore', 'et', 'Exempel,', 'fortcelle,', 'at', 'jeg', 'har', 'hort', 'Kvinder', 'opvarte', 'deres', 'Mcend', 'med', 'den', 'Overbevisning,', 'at', 'om', 'en', 'Mand', 'vilde', 'sy', 'Modepynt,', 'saa', 'maatte', 'det', 'blive', 'noget', 'ganske', 'anderledes', 'udmcertet,', 'end', 'naar', 'en', 'Kvinde', 'gjorde', 'det,', 'thi', 'alt,', 'hvad', 'en', 'Mand', 'gjorde,', 'var', 'altid', 'bedre,', 'end', 'hvad', 'en', 'Kvinde', 'gjorde.', 'Saa', 'modlose', 'og', 'saa', 'slaviske', 'vare', 'de', 'blevne', 'under', 'det', 'Tryt,', 'der', 'laa', 'over', 'dem.', 'Deres', 'Tcenkning', 'havde', 'ncesten', 'intet', 'andet', 'Spillerum', 'end', 'at', 'udfinde', 'nye', 'Smigrerier', 'for', 'Mcendene', 'og', 'nye', 'Nedscettelser', 'for', 'sig', 'selv,', 'hviltet', 'medforte', 'storrc', 'Fare', 'for', 'Begrebsforvirring', 'hos', 'de', 'Forste', 'end', 'hos', 'de', 'Sidste,', 'da', 'jo', 'Smiger', 'som', 'bekjendt', 'har', 'en', 'mere', 'berusende', 'Virkning', 'end', 'Ydmygelse.', 'Manden', 'vidste', 'heller', 'ikke', 'mere,', 'hvor', 'han', 'vilde', 'hen', 'med', 'al', 'sin', 'Storhed', 'og', 'Herlighed;', 'han', 'gav', 'sig', 'Luft', 'i', 'Sange', 'som', 'hvilken', 'Sang', 'jeg', 'til', 'min', 'Forundring', 'har', 'hort', 'en', 'begavet', 'ung', 'Mand', 'finde', 'at', 'vcere', 'en', 'smuk', 'Sang,', 'som', 'virkelig', 'udtrykte', 'Mandens', 'Storhed.', 'Det', 'var', 'i', 'Aaret', '1850.', 'Have', 'det', 'vceret', 'en', 'Mand', 'fra', 'den', 'Tid,', 'Sangen', 'blev', 'skrevet,', 'men', 'en', 'ung', 'Mand', 'fra', 'en', 'anden', 'Tid!', 'Det', 'var', 'virkelige', 'betydningsfuldt', 'Tegn.', 'Man', 'tcenke', 'sig,', 'om', 'en', 'ung', 'Mand', 'nu,', '1870,', 'vilde', 'med', 'megen', 'Alvor', 'og', 'Iver', 'paastaa,', 'at', 'der', 'Intet', 'var', 'I', 'veien', 'for', 'at', 'synge', '„om', 'Kloden', 'rokkes', 'end,', 'dets', 'Fjelde', 'skal', 'Storme', 'dog', 'ei', 'kunne', 'fcelde', 'med', 'samme', 'Begeistring,', 'som', 'i', '1816.', 'Mon', 'man', 'ikke', 'vilde', 'betragte', 'ham', 'med', 'et', 'udvendigt', 'eller', 'indvendigt', 'Smil?', 'Men', 'den', 'egentlige', 'paatagelige', 'Sindsforirring', 'viser', 'sig', 'dog', 'forst', 'i', 'Udtrykket', 'Skabningens', 'Herre,', 'som', 'Manden,', 'nåar', 'han', 'ret', 'soler', 'sit', 'Velvcere,', 'behager', 'sig', 'i', 'at', 'bruge', 'for', 'dermed', 'at', 'bencevne', 'sig', 'selv,', 'og', 'som', 'de', 'stovede', 'Kvinder', 'gjentage', 'efter', 'ham.', 'Paa', 'mig', 'har', 'dette', 'Udtryk,', 'siden', 'forste', 'Gang', 'det', 'har', 'modt', 'mig', 'i', 'Livet,', 'gjort', 'samme', 'Indtryk', 'som', 'det', 'maa', 'gjore', 'paa', 'et', 'musikalsk', 'Ore,', 'nåar', 'midt', 'i', 'en', 'Skala,', 'der', 'pludselig', 'kommer', 'en', 'Tone,', 'der', 'er', 'trefjerdedel', 'for', 'lav', 'eller', 'for', 'hoi.', 'Jeg', 'kunde', 'onske', 'mig', 'Kierkegaards', 'Evne', 'for', 'at', 'behandle', 'denne', 'Skabningens', 'Herre', 'eller', 'en', 'Professors', 'Fcerdighed', 'for', 'at', 'kunne', 'anatomere,', 'dissikere', 'og', 'prceparere', 'ham.', 'Jeg', 'faar', 'forsoge', 'om', 'den', 'sunde', 'Sands,', 'som', 'Skaberen', 'ikke', 'har', 'ncegtet', 'Kvinderne,', 'strcekker', 'til', 'for', 'at', 'kunne', 'balsamere', 'ham.', 'Denne', 'Skabningens', 'Herre', 'forncermer', 'Gud', 'i', 'Himlen', 'og', 'den', 'kvindelige', 'Halvdel', 'af', 'Menneskeheden', 'paa', 'Jorden.', 'Titelen', 'tilkommer', 'jo', 'aabenbart', 'kun', 'Gud', 'Fader', 'almcegtigste,', 'Himlens', 'og', 'Jordens', 'Skaber.', 'Dette', 'Praleri', 'er', 'usselt,', 'da', 'Skabningens', 'Herre', 'I', 'Vikeligheden', 'er', 'en', 'ringe', 'Skabning', 'i', 'Skaberens', 'Haand.', 'At', 'paavise', 'det', 'anmasaende,', 'bristende', 'og', 'ovenikjobet', 'fuldkommen', 'meningslose', 'i', 'denne', 'Titel', 'i', 'Forhold', 'til', 'Kvinden,', 'er', 'mere', 'indviklet,', 'men', 'jeg', 'haaber', 'at', 'det', 'vil', 'lykkes', 'mig.', 'Jeg', 'har', 'vundet', 'saa', 'mang', 'en', 'ugreid', 'Hespel,', 'og', 'her', 'gjcelder', 'det', 'mere', 'end', 'et', 'Garnnoste,', 'det', 'gjcelder', 'at', 'vise', 'en', 'Forncermelse', 'mod', 'Gud', 'og', 'mod', 'hans', 'Hcenders', 'Vcerk.', 'Kvinden.', 'Altsaa', 'til', 'Arbeidet!', 'Vi', 'se', 'en', 'Mand,', 'som', 'lcener', 'sig', 'tilbage', 'paa', 'Stolen', 'lofter', 'Hovedet', 'I', 'veret', 'og', 'siger', 'med', 'selv', 'behageligt', 'Ansigt:', 'Manden', 'er', 'Skabningens', 'Herre!\"', 'Hvad', 'vil', 'nu', 'den', 'gode', 'Mand', 'hermed', 'sige?', 'Han', 'stiller', 'sig,', 'Manden,', 'alene', 'paa', 'Menneskets', 'Plads', 'ligeoverfor', 'den', 'ovrige', 'Skabning,', 'som', 'jeg', 'i', 'tort', 'Begreb', 'ncevner', 'som', 'Dyr,', 'Planter', 'og', 'Mineralier.', 'Dersom', 'han', 'vilde', 'tale', 'som', 'et', 'Menneske,', 'da', 'sagde', 'han:', 'Mennesket', '(Mand', 'og', 'Kvinde)', 'er', 'Skabningens', 'Herre.', 'Dette', 'kan', 'med', 'en', 'vis', 'Indskrcenkning', 'siges,', 'da', 'Gud', 'selv', 'satte', 'Mennesket', '(Mand', 'og', 'Kvinde)', 'i', 'et', 'Herskerforhold', 'til', 'den', 'ovrige', 'Skabning', 'her', 'paa', 'Jorden,', 'da', 'han', 'sagde', 'til', 'dem:', 'Gjorer', 'Eder', 'Jorden', 'underdanig', '.', 'Nåar', 'nu', 'Manden,', 'der', 'er', 'bleven', 'or', 'og', 'svimmel', 'ved', 'at', 'isolere', 'sig', 'og', 'ophoie', 'sig', 'over', 'Kvinden', 'i', 'saa', 'lang', 'Tid,', 'ikke', 'noier', 'sig', 'med', 'at', 'vcere', 'Menneske,', 'men', 'vil', 'vcere', 'noget', 'mere,', 'han', 'vil', 'nemlig', 'vcere', 'Skabningens', 'Herre', 'ganske', 'alene,', 'og', 'han', 'vil', 'staa', 'ganske', 'alene', 'paa', 'den', 'Plads,', 'som', 'tilhorer', 'Mennesket,', '(Mand', 'og', 'Kvinde)', 'hvor', 'skal', 'da', 'Kvinden', 'staa?', 'Hvor', 'vil', 'han', 'gjore', 'av', 'hende?', 'Hvor', 'vil', 'han', 'scette', 'hende', 'hen?', 'Ganske', 'at', 'benegte', 'hendes', 'Tilvcerelse', 'gaar', 'jo', 'ikke', 'godt', 'an.', 'saa', 'meget', 'mindre,', 'som', 'den', 'hele', 'Manovre', 'netop', 'bliver', 'gjort', 'for,', 'indtil', 'det', 'Uunngaalige', 'at', 'driste', 'sig', 'lige', 'overfor', 'hende.', 'Det', 'egentlig', 'tildrende', 'ved', 'Sagen', 'er,', 'at', 'han', 'saa', 'at', 'sige', 'slaar', 'sig', 'tjl', 'Ridder', 'paa', 'hende.', 'Det', 'er', 'rigtignok', 'paa', 'det', 'Frygteligste', 'at', 'misbruge', 'dette', 'Ord,', 'der', 'har', 'saa', 'god', 'en', 'Klang,', 'dette', 'at', 'bruge', 'det', 'til', 'at', 'betegne', 'en', 'saa', 'umandig', 'og', 'saa', 'uvcerdig', 'Adfcerd,', 'som', 'denne,', 'jeg', 'har', 'forsogt', 'at', 'skildre.', 'Men', 'tilbage', 'til', 'Skabningens', 'Herre', 'i', 'hans', 'isolerede', 'Magtstilling.', 'Hvor', 'skal', 'Kvinden', 'scette', 'sine', 'Fodder,', 'da', 'Manden', 'gjor', 'sig', 'saa', 'bred,', 'at', 'han', 'optager', 'hele', 'Jordens', 'Kreds', 'til', 'sine', 'Fodder?', 'At', 'scette', 'hende', 'blandt', 'Planter,', 'Dyr', 'eller', 'Mineralier', 'kan', 'dog', 'heller', 'ikke', 'rigtig', 'gaa', 'an', 'selv', 'for', 'Skabningens', 'Herre.', '(Man', 'ser', 'ovenfor,', 'at', 'Veste-Brunen', 'griber', 'til', 'den', 'Udvei', 'at', 'gjore', 'hende', 'til', 'en', 'Mellemting', 'mellem', 'Dyr', 'og', 'Menneske).', 'Det', 'eneste,', 'der', 'bliver', 'tilovers,', 'er', 'at', 'lade', 'hende', 'hcenge', 'los', 'ude', 'i', 'det', 'tomme', 'Rum', 'som', 'hans', 'Skygge.', 'Lad', 'os', 'nu', 'beskjceftige', 'os', 'lidt', 'med', 'hende,', 'Stakkel,', 'som', 'der', 'ikke', 'var', 'levnet', 'det', 'hvorpaa', 'hun', 'kunde', 'scette', 'sine', 'Fodder.', 'Hun', 'blev', 'ncevnet', 'med', 'et', 'andet', 'Navn', 'i', 'sin', 'Umyndighedstid,', 'hun', 'kaldtes', '„et', 'Fruentimmer”.', 'Dette', 'Ord', 'er', 'en', 'Fordanstning', 'af', 'det', 'tyske', '„Frauenzimmer\",', 'hvillet', 'atter', 'klte', 'kan', 'betyde', 'andet', 'end', 'et', 'Kvindekammer', 'eller', 'jomfrubur', 'som', 'det', 'hed', 'hos', 'os', 'i', 'gamle', 'Tider.', 'Dette', 'Ord', 'er', 'ved', 'en', 'ubegribelig', 'Begrebsforvirring', 'og', 'Aandsslovhed', 'gaaet', 'over', 'til', 'at', 'betegne', 'det', 'levende', 'Vcesen,', 'som', 'vi', 'nu', 'kalde', 'en', 'Kvinde.', 'Forsaavidt', 'passede', 'disse', 'To', 'Slabningens', 'Herre', 'og', 'Fruentimmeret,', 'godt', 'sammen', 'som', 'Samtidige,', 'at', 'medens', 'hans', 'Selvfolelse', 'var', 'saa', 'opsvulmet.', 'at', 'han', 'aldeles', 'ingen', 'Plads', 'vilde', 'indromme', 'hende', 'ved', 'saa', 'var', 'hun', 'svundet', 'ind', 'til', 'et', 'skyggeagtigt', 'Begreb,', 'der', 'blev', 'betegnet', 'ved', 'et', 'Ord,', 'der', 'kun', 'kan', 'betyde', 'noget', 'Livlost.', 'Forfatterinden', 'til', 'Amtmandens', 'Dotre', 'giver', 'os', 'i', 'sine', 'Oktoberfantasier', 'en', 'fortrceffelig', 'Typus', 'av', 'en', 'saadan', 'Fruentimmertilvcerelse:', 'Ifr.', 'Bott', 'sidderlidt', 'tilside', 'fra', 'de', 'Ovrige,', 'og', 'selv', 'dette,', 'at', 'hun', 'holder', 'sig', 'i', 'Skyggen,', 'er', 'betegnende', 'for', 'hende.', 'Hun', 'er', 'et', 'Skyggebillede', 'i', 'Livet,', 'og', 'har', 'aldrig', 'gjort', 'Fordring', 'paa', 'Andet', 'og', 'har', 'aldrig', 'vceret', 'agtet', 'for', 'Andet.', 'Hvem', 'ser', 'efter', 'Silhouetterne', 'paa', 'Vceggen,', 'nåar', 'der', 'er', 'Målerier', 'i', 'Stuen', '!', 'For', 'Tiden', 'er', 'hun', 'i', 'Huset', 'hos', 'Fru', 'Edeltorp,', 'i', 'hvad', 'Egenskab', 'ikke', 'let', 'at', 'sige.', 'Som', 'Selskaberinde', 'kan', 'det', 'neppe', 'vcere,', 'da', 'hun', 'er', 'i', 'den', 'pinligste', 'Grad', 'taus', 'og', 'negativ', 'i', 'al', 'sin', 'Vceren.', 'Ingen', 'Dodelig', 'har', 'endnu', 'nogensinde', 'hort', 'hende', 'udtale', 'en', 'frivillig,', 'selvstcendig', 'Mening', 'om', 'nogen', 'Ting,', 'og', 'strider', 'man.', 'trykket', 'af', 'denne', 'forstottede', 'Passivitet,', 'engang', 'til', 'at', 'udscette', 'en.saadan,', 'saa', 'kan', 'man', 'regne', 'paa,', 'at', 'den', 'er', 'et', 'Ekko', 'af', 'en', 'tilfceldig,', 'sidst', 'udtalt', 'Anskuelse,', 'fattet', 'saa', 'telegrafisk', 'fom', 'muligt', 'og', 'ledsaget', 'af', 'et', 'Blik,', 'som', 'om', 'hun', 'bonfaldt', 'om', 'Tilgivelse', 'for', 'en', 'saadan', 'ubeskeden', 'Anmasselse.”'], ['Fruentimmeret', 'har', 'trukket', 'sig', 'tilbage', 'fra', 'Verden.', 'Kvinden,', 'som', 'Gud', 'stabte,', 'har', 'indtaget', 'den', 'hende', 'tilkommende', 'Plads', 'og', 'sidder,', 'blomstrende', 'som', 'en', 'Rose,', 'ved', 'sit', 'Arbeide.', 'Hun', 'bevceger', 'sig', 'i', 'frisk', 'Luft,', 'hun', 'turner,', 'hun', 'svommer,', 'hun', 'har', 'Menneskerettigheder,', 'hun', 'lcerer', 'endogsaa', 'Fysik', 'og', 'Kemi,', 'og', 'som', 'man', 'ser', 'af', 'Protesten', 'i', 'Morgenbladet,', 'hun', 'befinder', 'sig', 'vel.', 'Fruentimmeret', 'kan', 'ilke', 'have', 'lcenge', 'igjen', 'at', 'leve;', 'stor', 'Livskraft', 'kan', 'der', 'neppe', 'vcere', 'i', 'hende.', 'Vi', 'vilde', 'nu', 'anmode', 'Skabningens', 'Herre', 'om', 'at', 'bevise', 'hende', 'den', 'sidste', 'Ære', 'for', 'lang', 'og', 'tro', 'Tjeneste,', 'og', 'vi', 'er', 'saa', 'oprigtige', 'at', 'sige', 'det', 'han', 'bor', 'helst', 'folge', 'hende', 'i', 'Graven.', 'Det', 'bliver', 'saa', 'ingen', 'Skygge', 'for', 'Skabningens', 'Herre', 'alligevel', 'hereafter.', 'Kvinden', 'vil', 'for', 'det', 'forste', 'faa', 'saa', 'megen', 'Plads,', 'at', 'hun', 'derpaa', 'kan', 'scette', 'begge', 'sine', 'smaa', 'Fodder,', 'og', 'vil', 'give', 'ham', 'Albue-', 'og', 'Ribbenstod', 'saalcenge,', 'indtil', 'han', 'indrommer', 'hende', 'denne', 'billige', 'Fordring.', 'Det', 'er', 'ikke', 'noget', 'for', 'ham', 'det,', 'slig', 'som', 'han', 'er', 'vant.', 'Hans', 'Fruentimmer', 'gjorde', 'aldrig', 'sligt.', 'Fik', 'hun', 'noget,', 'Stakkar,', 'saa', 'var', 'hun', 'naturligvis', 'fornoiet,', 'og', 'fik', 'hun', 'ingenting', 'saa', 'var', 'hun', 'naturligvis', 'ogsaa', 'fornoiet;', 'thi', 'hvor', 'for', 'skulde', 'hun', 'ikke', 'vcere', 'fornsiet;', 'hun', 'duede', 'jo', 'ikke', 'til', 'noget', 'og', 'var', 'bare', 'til', 'Unytte', 'i', 'Verden.', 'Gud', 'hjcelpe', 'hende,', 'hvis', 'ikke', 'hun', 'var', 'fornoiet!'], ['Det', 'er', 'tyve', 'Aar', 'siden', 'at', 'jeg', 'forste', 'Gang', 'traf', 'paa', '..Skabningens', 'Herre', 'og', 'at', 'han', 'ved', 'pralende', 'at', 'ncrvne', 'sin', 'Titel', 'saarede', 'mine', 'Oren', 'paa', 'den', 'Maade,', 'jeg', 'ovenfor', 'har', 'beskrevet.', 'Men', 'hvad', 'vcerre', 'er,', 'jeg', 'har,', 'med', 'Skam', 'at', 'tale', 'om', 'truffet', 'ham', 'igjen', 'for', 'ikke', 'lcenge', 'siden.', 'Mit', 'Ansigt', 'fortrok', 'sig', 'til', 'en', 'ynkelig', 'Grimase', 'ved', 'atter', 'at', 'se', 'hans', 'opsvulmede', 'Elitlclse', 'og', 'atter', 'at', 'maatte', 'hore', 'det', 'selvbehagelige:', '“Ja,', 'Manden', 'er', 'Skabningens', 'Herre!”', 'Hans', 'Tid', 'er', 'nu', 'forbi.', 'Ved', 'Siden', 'af', 'Kvinden,', 'som', 'Gud', 'skabte,', 'trives', 'kun', 'Manden,', 'som', 'Gud', 'skabte.', 'Han', 'er', 'ogsaa', 'kommet', 'for', 'at', 'indtage', 'sin', 'Plads,', 'og', 'vi', 'lykonske', 'ham', 'med', 'den', 'sikre', 'Forudsigele,', 'al', 'han', 'vil', 'have', 'uendelig', 'meget', 'mere', 'Glcede', 'af', 'sin', '«Kvinde\",', 'saaledes', 'som', 'Gud', 'har', 'givet', 'ham', 'hende,', 'end', 'Skabningcns', 'Herre', 'nogen', 'sinde', 'havde', 'af', 'sit', 'stakkels', 'Fruentimmer,', 'om', 'han', 'ogsaa', 'undertrykte,', 'mishandlede', 'og', 'bagtalte', 'hende', 'nok', 'saa', 'meget,', 'medens', 'han', '„med', 'Glas', 'i', 'Haand,', 'stolt', 'af', 'sin', 'hoie', 'Aand\".', 'drak', 'sig', 'under', 'her', 'Bordet', 'og', 'troede', 'sig', 'at', 'vcere', 'guddommelig.', 'Det', 'er', 'underligt', 'med', 'det,', 'men', 'der', 'er', 'ingen', 'Glcede', 'og', 'ingen', 'Velsignelse', 'ved', 'slig', 'Fremfcerd.', 'Nu', 'er', 'det,', 'Gud', 'vcere', 'lovet,', 'anderledes,', 'jeg', 'vil', 'hidscette', 'Digterens', 'skjonne', 'Ord:', 'Og', 'nu', 'nogle', 'Ord', 'i', 'en', 'mere', 'alvorlig', 'Tone.', 'Sagen', 'har', 'nemlig', 'ogsaa', 'sin', 'sorgelige', 'Side.', 'Hvor', 'mangen', 'stcerk', 'Sjcel', 'af', 'det', '“svage', 'Kjon”', 'er', 'ikke', 'blevet', 'mere', 'og', 'mindre', 'knust,', 'kvalt', 'og', 'er', 'gaaet', 'til', 'Grunde', 'i', 'alle', 'de', 'Tider,.', 'medens', 'hun', 'stod', 'i', 'den', 'ovenfor', 'bestrevne,', 'lidte', 'misundelsesvcerdige', 'Stilling.', 'Jeg', 'har', 'kjendt', 'en', 'saadan,', 'hvis', 'Minde', 'jeg', 'her', 'vil', 'fceste.', 'Hun', 'var', 'i', 'Besiddelse', 'af', 'litercert', 'Talent,', 'en', 'stcerk', 'Tcenkning,', 'en', 'rastlos', 'virksom', 'Aand.', 'Alle', 'disse', 'rige', 'Gaver', 'bleve', 'tilsidst,', 'af', 'Mangel', 'paa', 'en', 'passende', 'Virkekreds', 'med', 'tilstrcekkelig', 'Luft', 'og', 'Lys,', 'til', 'en', 'Andsfortcerelse', 'for', 'hende', 'og', 'bragtc', 'hende', 'til', 'Fortvivlelse.', 'Hendes', 'Virksomhed', 'som', 'Lcererinde', 'kunde', 'ikke', 'tilfredsstille', 'hendes', 'Aands', 'Higen.', 'Nogle', 'Fortcellinger', 'og', 'Digte', 'og', 'et', 'Forsog', 'til', 'et', 'mere', 'videnskabeligt', 'Arbeide', 'var', 'kun', 'kjendt', 'af', 'hendes', 'ncermeste', 'Kreds,', 'og', 'selv', 'denne', 'har', 'ingen', 'Levning', 'ved', 'mere', 'af', 'disse', 'Optegnelser.', 'Hvor', 'mangt', 'svagt', 'Forsog', 'kunde', 'ikke', 'komme', 'for', 'Lyset,', 'naar', 'det', 'skrev', 'sig', 'fra', 'En', 'av', 'det', 'Stcerke', 'Kjon.', 'Men', 'hun', 'var', 'jo', 'et', 'Fruentimmer,', 'hun', 'kunde', 'vel', 'hemmeligt', 'onske', 'at', 'offentliggjore', 'sine', 'Arbeider,', 'men', 'hun', 'turde', 'jo', 'ikke', 'ville', 'det.', 'Vore', 'Brodre', 'i', 'Fjeldbygderne', 'have', 'forsaavide', 'delt', 'Skjcebne', 'med', 'den', 'her', 'ncevnte', 'Kvinde,', 'at', 'der', 'var', 'en', 'uoverstigelig', 'Skranke,', 'som', 'skilte', 'dem', 'fra', 'det', 'hoiere', 'Kulturliv,', 'og', 'iscer', 'fra', 'virksom', 'Deltagelse', 'der', 'i,', 'Hvor', 'mangt', 'et', 'Knudebjerg', 'som', 'Grundtvig', 'kalder', 'det,', 'maatte', 'Bondegutten', 'ikke', 'gjennembryde', 'for', 'at', 'naa', 'frem', 'i', 'Dagen', 'som', 'studeret', 'Mand.', 'Men', 'den', 'Fordel', 'havde', 'han', 'dog,', 'at', 'han', 'aldrig', 'havde', 'hort', 'andet', 'end', 'at', 'det', 'var', 'gildt', 'at', 'naa', 'et', 'stort', 'Maal,', 'og', 'at', 'var', 'Vanskelighederne', 'derved', 'afskrcekkende,', 'saa', 'var', 'Æren', 'desto', 'storre', 'ved', 'at', 'overvinde', 'dem.', 'Men', 'den', 'ulykkelige', 'Kvinde,', 'som', 'var', 'inddruffen', 'med', 'den', 'Lcerdom,', 'som', 'Protestens', 'Forfatterinde', 'lader', 'det', 'vcere', 'sig', 'magtpaaliggcnde', 'at', 'indskjcerpe,', 'at', 'hendes', 'Liv', 'skal', 'vcere', 'et', 'stille,', 'skjult', 'Liv', 'i', 'Hjemmets', 'Helligdom,', 'hun', 'skal', 'ikke', 'ville', 'fremtrcede', 'paa', 'nogen', 'som', 'helst', 'opsigtvcektende', 'Maade,', 'thi', 'da', 'losriver', 'hun', 'sig', 'fra', 'sin,', 'af', 'Gud', 'givne', 'Natur,', 'og', 'dette', 'sker', 'aldrig', 'ustraffet.', 'Hun', 'var', 'derved', 'bundet', 'med', 'usynlige', 'Baand,', 'som', 'virkede', 'endnu', 'mere', 'lammende', 'end', 'alt', 'det', 'mere', 'udvortes', 'Tryl,', 'der', 'laa', 'paa', 'hende.', 'Denne', 'Lcerdom', 'stod', 'som', 'et', 'Skrcekkebillede', 'mellem', 'hende', 'og', 'enhver', 'fri', 'Virksomhed.', 'Men', 'den', 'Lcerdom', 'kan', 'umuligt', 'altid', 'holde', 'Stik.', 'Jeg', 'vil', 'her', 'fremscette', 'et', 'oplysende', 'Exempel.', 'Mon', 'Miss', 'Florence', 'Nightingale', 'ved', '„Me”og..skjult\"', 'at', 'nyde', 'sin', 'fyrstelige', 'Formue', 'i', 'sine', 'rigt', 'udstyrede', 'Boliger,', 'ved', 'at', 'tcenke', 'paa', 'at', 'smykke', 'sig', 'og', 'glcede', 'sig', 'ved', 'et', 'forfinet', 'Livs', 'Behageligheder,', 'som', 'andre', 'Kvinder', 'i', 'hendes', 'Stilling,', 'mon', 'hun', 'derved,', 'siger', 'jeg,', 'havde', 'vist', 'sig', 'mere', 'kvindelig,', 'mere', 'overensstemmende', 'med', 'Guds', 'eget', 'Ord', 'at', 'Kvinden', 'skal', 'vcere', 'en', 'Medhjcelp', 'for', 'Manden,', 'end', 'ved', 'at', 'gjere', 'det', 'i', 'hoiste', 'Grad', 'Opsigtvcekkende', 'at', 'reise', 'til', 'Krigsskuepladsen', 'paa', 'Krim,', 'gaa', 'ind', 'i', 'Lasaretterne', 'og', 'personligt', 'opvarte,', 'pleie', 'og', 'troste', 'de', 'saarede', 'og', 'lidende', 'Soldater?', 'Mon', 'det', 'ikke', 'skulde', 'forblive', 'ustraffet?', 'han', 'er', 'vant.', 'at', 'hun', 'der', 'udfoldede', 'en', 'Virksomhed,', 'som', 'jeg', 'har', 'sligt.', 'hert', 'de', 'indsigtsfuldeste', 'Lceger', 'at', 'beundre?', 'Maa', 'ikke', 'tvertimod', 'ethvert', 'Menneske', 'kalde', 'en', 'saadan', 'Opofrelse', 'og', 'Menneskekjcerlighed', 'i', 'hoieste', 'Grad', 'kvindelig?', 'Og', 'nu', 'til', 'det', 'sidste', 'Punkt', 'i', 'Protesten,', 'at', 'Kvinden', 'ikke', 'bor', 'unddrage', 'sig', 'Mandens', 'Beskytelse.', 'Heri', 'ligger', 'der', 'noget', 'saare', 'kjent.', 'Alle', 'Skaberens', 'Vcerker', 'udmcerke', 'sig', 'ved', 'en', 'stor', 'Skjonhed,', 'men', 'mtet', 'saameget', 'som', 'hans', 'Ypperste', 'Skabning', 'Mennesket,', 'Mand', 'og', 'Kvinde.', 'Bibelens.', 'feiste', 'Beretning', 'om', 'Menneskets', 'Skabelse', 'finde', 'vi', 'i', 'forste', 'Mosebog', 'forste', 'Kap.', '27:', '„Og', 'Gud', 'skabde', 'Mennesket', 'i', 'sit', 'Billede,', 'han', 'skabte', 'det', 'i', 'Guds', 'Billede;', 'Mand', 'og', 'Kvinde', 'skable', 'han', 'dem”.', 'Her', 'uthceves,', 'at', 'Menneskets', 'Herlighed', 'bestaar', 'deri,', 'at', 'det', 'er', 'skabt', 'i', 'Guds', 'Billede,', 'og', 'her', 'peges', 'paa', 'den', 'Visdom', 'og', 'Skjonhed,', 'som', 'indesluttes', 'deri,', 'at', 'Mennesket', 'er', 'Mand', 'og', 'Kvinde.', 'Den', 'store', 'Skjonhed', 'ligger', 'netop', 'i', 'at', 'de', 'er', 'udrustede', 'paa', 'forskjellig', 'Maade,', 'hvorved', 'de', 'komme', 'til', 'at', 'trcenge', 'til', 'hinanden', 'og', 'fuldstcendiggjore', 'hinanden.', 'Dette', 'udhceves', 'ikke', 'af', 'John', 'Stuart', 'Mill;', 'han', 'synes', 'at', 'overse', 'det,', 'jaa', 'at', 'modarbeide', 'en', 'saadan', 'Opfatning', 'af', 'Forholdet.', 'Det', 'ser', 'ncesten', 'ud', 'som', 'om', 'han', 'vilde', 'bevise,', 'at', 'Mand', 'og', 'Kvinde', 'er', 'aldeles', 'lige,', 'hvad', 'den', 'ene', 'formaar,', 'formaar', 'den', 'anden', 'ogsaa.', 'Her', 'gjor', 'jeg', 'altsa', 'den', 'Indrommelse,', 'som', 'jeg', 'i', 'min', 'forste', 'Artikel', 'kun', 'fik', 'Plads', 'til', 'at', 'antyde.', 'Men', 'jeg', 'vil', 'strax', 'tilfoye', 'at', 'jeg', 'alligevel', 'finder,', 'at', 'Mill', 'har', 'ret', 'i', 'Hvad', 'han', 'gjor,', 'thi', 'da', 'Mandens', 'forhold', 'til', 'Kvinden', 'var', 'blevet', 'saa', 'forrykket', 'og', 'han', 'selv', 'der', 'ved', 'blevet', 'saa', 'forrykt', 'av', 'Hovmod', 'og', 'Selvgodhed', 'at', 'han', 'vilde', 'gjore', 'sig', 'selv', 'til', 'en', 'Guddom', 'og', 'hende', 'til', 'et', 'Dyr', 'eller', 'et', 'Intet,', 'ligegyldigt', 'hvilket,', 'naar', 'han', 'kun', 'beholdt', 'Marken', 'for', 'sig', 'alene,', 'saa', 'fandt', 'Mill,', 'at', 'det', 'Forste,', 'der', 'var', 'at', 'gjore,', 'for', 'at', 'bringe', 'ham', 'til', 'Besindelse,', 'var', 'at', 'anmode', 'ham,', 'paa', 'en', 'hoflig', 'men', 'bestemt', 'Maade,', 'om', 'at', 'stige', 'ned', 'fra', 'sin', 'himmelstrcebende', 'Throne,', 'og', 'derpaa', 'at', 'slaa', 'denne', 'i', 'tusinde', 'Stumper', 'og', 'Stykker', 'for', 'hans', 'Oine.', 'Og,', 'da', 'Manden', 'havde', 'tilegnet', 'sig', 'al', 'menneskelig', 'Rettighed,', 'Frihed', 'og', 'Egenskab', 'under', 'Navn', 'af', 'sine', 'specielle', 'Privilegier,', 'hvortil', 'han', 'havde', 'Eneret,', 'saa', 'fandt', 'Mill', 'at', 'det', 'Bedste', 'var', 'at', 'begynde', 'med', 'at', 'fravriste', 'ham', 'Alt,', 'da', 'han', 'havde', 'tilegnet', 'sig', 'Alt.', 'Her', 'ser', 'vi', 'altsaa', 'paa', 'den', 'skjsnneste', 'Maade', 'virkeliggjort', 'det,', 'fom', 'Protestens', 'Forfatterinde', 'vil', 'have,', 'nåar', 'hun', 'siger', 'om', 'Kvinden:', '„hun', 'er', 'saa', 'fint', 'anlagt;', 'hendes', 'Nervesystem,', 'hendes', 'Gemyt,', 'hendes', 'hele', 'Natur', 'og', 'Personlighed', 'kan', 'ikke', 'taale', 'at', 'stilles', 'blot', 'ligeoverfor', 'den', 'ydre', 'Verden', 'og', 'de', 'raa', 'For', 'hold,', 'der', 'er', 'uundgaaelige', 'i', 'Livet.', 'Alt', 'dette', 'skal', 'Manden', 'beskytte', 'hende', 'for', 'og', 'vcere', 'den,', 'der', 'forer', 'hendes', 'Sag\".', 'Hvad', 'de', 'raa', 'Forhold', 'angaar', 'da', 'er', 'det', 'med', 'dem', 'ligesom', 'med', 'Vanen,', 'at', 'de', 'undergaar', 'betydelig', 'Modifikation.', 'I', 'Middelalderen', 'var', 'Forholdene', 'saa', 'raa,', 'at', 'en', 'Kvinde', 'ikke', 'kunde', 'bevcrge', 'sig', 'paa', 'en', 'Landevei', 'uden', 'tilhest', 'med', 'et', 'Folge', 'af', 'haandfaste', 'Mcend', 'forsynede', 'med', 'gode', 'Staalhuer,', 'Svcerd', 'og', 'Skjold.', 'I', 'det', 'os', 'ncerliggende', 'Tidsafsnit,', 'hvormed', 'jeg', 'her', 'har', 'beskjcefiget', 'mig,', 'kunde', 'hun', 'vel', 'til', 'Nod', 'gaa', 'alene', 'paa', 'Gaden,', 'men', 'da', 'hun', 'var', 'anseet', 'for', 'en', 'saa', 'ynkelig', 'Skabning,', 'havde', 'Herrerne', 'i', 'Selskabslivet', 'ofte', 'et', 'drillende', 'Vcesen', 'mod', 'hende', 'og', 'legte', 'med', 'hende', '„som', 'med', 'en', 'liden', 'Hund\",', 'som', 'Bjornson', 'siger', 'i', 'Folkebladet.', 'Nu', 'er', 'det', 'netop', 'det', 'som', 'hendes', 'Forkjcempere', 'vil,', 'ved', 'at', 'aabne', 'hende', 'nye', 'Stillinger,', 'at', 'hun', 'i', 'dem', 'skal', 'staa', 'som', 'Kvinde,', 'det', 'vil', 'sige', 'staa', 'fredet', 'og', 'beskyttet.', 'Ligesaa', 'vist', 'som', 'vi', 'ved', 'at', 'gjore', 'os', 'svage', 'og', 'uselvstcendige.', 'og,', 'ved', 'ikke', 'at', 'hjcelpe', 'os', 'selv', 'hvor', 'vi', 'kan,', 'bliver', 'en', 'Byrde', 'for', 'Manden', 'istedet', 'for', 'at', 'vcere', 'en', 'Medhjcelp', 'for', 'ham,', 'ligesaa', 'vist', 'er', 'det,', 'at', 'der', 'Me', 'gives', 'en', 'Kvinde,', 'som', 'ikke', 'ved', 'at', 'scette', 'Pris', 'paa', 'en', 'Mands', 'kraftige', 'Arm', 'nåar', 'hun', 'trcenger', 'til', 'den;', 'jeg', 'har', 'derfor', 'heller', 'ikke', 'lagt', 'Skjul', 'paa', 'den', 'Taknemmelighed,', 'som', 'jeg', 'foler', 'og', 'som', 'tusinde', 'og', 'atter', 'tusinde', 'Kvinder', 'med', 'mig', 'foler,', 'ligeoverfor', 'disse', '„skarpe', 'Tcenkere\"', 'disse', '«edle', 'Mcend,', 'der', 'saa', 'mandigt', 'kjcempe', 'for', 'os,', 'og', 'som', 'slaa', 'saadanne', 'Slag', 'for', 'vor', 'Sag,', 'som', 'vi', 'selv', 'aldrig', 'havde', 'formaaet.', '—', 'Hvad', 'jeg', 'i', 'mine', 'foregaaende', 'Artikler', 'har', 'sogt', 'at', 'udvitke,', 'kan', 'sammenfattes', 'i', 'Korthed', 'i', 'de', 'Scetning.', 'at', 'netop', 'nu,', 'i', 'den', 'historiske', 'Periode,', 'som', 'begyndte', 'med', 'den', 'store', 'forste', 'franske', 'Revolution', 'i', '1789,', 'da', 'de', 'nye', 'Livsprinciper,', 'som', 'ncevnes', 'Frihed,', 'Lighed', 'og', 'Broderssab,', 'samlede', 'sig', 'under', 'Oplysningens', 'Banner,', 'med', 'uimodstaaelig', 'Magt', 'trcengte', 'frem', 'paa', 'Historiens', 'Skueplads,', 'netop', 'ved', 'det', 'Vendepunkt', 'begyndte', 'Forholdet', 'mellem', 'Mand', 'og', 'Kvinde', 'at', 'synke', 'og', 'blev', 'skjcevere', 'og', 'mere', 'forrykket', 'end', 'det', 'nogensinde', 'havde', 'vcert.', 'Det', 'er', 'en', 'besynderlig', 'Kjendsgjcerning,', 'at', 'paa', 'samme', 'Tid,', 'og', 'man', 'tan', 'sige', 'i', 'samme', 'Mon,', 'som', 'de', 'nye', 'Ideer', 'seirede', 'og', 'Oplysning', 'blev', 'almindelig,', 'blev', 'Mandens', 'Opfatning', 'as', 'sit', 'Forhold', 'til', 'Kvinden', 'og', 'av', 'hendes', 'Natur', 'og', 'Vcesen', 'bestandig', 'mere', 'uklar,', 'indtil', 'den', 'naaede', 'den', 'Grad', 'af', 'Formorkelse,', 'som', 'jeg', 'har', 'bencevnt', 'Sindsforvirring.', 'Dette', 'kom', 'av', 'at', 'Manden', 'i', 'sin', 'Seiersrus', 'glemte', 'at', 'give', 'Kvinden', 'Del', 'i', 'den', 'Frihed,', 'hvis', 'Goder', 'han', 'selv', 'nød.', 'Det', 'varede', 'saa', 'lcenge,', 'inden', 'han', 'kunde', 'bekvemme', 'sig', 'til', 'denne', 'Retfcerdighedshandling,', 'at', 'Begges', 'Tilstand', 'blev', 'sorgelig;', 'hun', 'var', 'en', 'kuet', 'undertrykt', 'Stakkel', 'og', 'han', 'en', 'overmodig', 'uretfcerdig', 'Daare.', 'Jonas', 'Lie', 'oplyser', 'i', 'Folkebladet', 'for', 'I6de', 'Juli,', 'at', '«Negerslaven', 'havde', 'for', 'han', 'befriedes', 'netop', 'samme', 'retslige', 'Stilling,', 'som', 'den', 'norske', 'Hustru', 'har', 'til', 'sin', 'Herre.', 'I', 'gamle', 'Dage', 'var', 'imidlertid', 'dette', 'Forhold', 'ogsaa', 'andeledes', 'i', 'vort', 'Land.', 'Slaveri', 'stred', 'mod', 'vore', 'Forfcedres', 'hele', 'uafhcengige', 'Aand,', 'og', 'for', 'Hustruen', 'flyttede', 'ind', 'i', 'Huset,', 'skede', 'der', 'altid', 'en', 'Overenskomst', 'om', 'Formuen,', 'hvoraf', 'hver', 'ansaaes', 'for', 'at', 'raade', 'over', 'Sit.', 'Naar', 'Skilsmisse', 'fandt', 'Sted,', 'tog', 'ogsaa', 'Hustruen', 'sine', 'Midler', 'med', 'sig', 'igjen', 'ud', 'af', 'Huset.', 'Dette', 'er', 'en', 'Stette', 'for', 'min', 'ovenfor', 'fremsatte', 'Paastand,', 'at', 'Forholdet', 'mellem', 'Mand', 'og', 'Kvinde', 'var', 'i', 'den', 'forste', 'Halvdel', 'af', 'dette', 'Aarhundrede', 'sunket', 'dybere', 'end', 'nogensinde', 'for.', 'Derfor', 'maa', 'der', 'nu', 'en', 'formelig', 'Omvceltning,', 'en', 'Revolution', 'til', 'i', 'denne', 'Sag.', 'da', 'det', 'gjcelder', 'i', 'et', 'meste', 'uhyre', 'Stridt', 'at', 'komme', 'fra', 'en', 'halv', 'muhamedansk', 'og', 'halv', 'sydhavsoisk', 'Tilstand', 'til', 'Overensstemmelse', 'med', 'de', 'ovrige', 'i', 'det', 'kristelige', 'og', 'civiliserede', 'Europa', 'bestaaende', 'Forhold.', 'Jeg', 'siger', 'halv', 'muhamedansk,', 'thi', 'Kristendommen', 'vcergede', 'jo', 'for', 'os.', 'Kirlen', 'var', 'ikke', 'stcengt', 'for', 'os', 'og', 'Guds', 'Ord', 'var', 'os', 'ikke', 'forholdt', 'og', 'Flerkoneri', 'tillod', 'Loven', 'ikke.', 'Dette', 'gjorde', 'saa', 'meget,', 'at', 'selv', 'den', 'ulla', ',este', 'mandlige', 'Opfatning', 'forbandt', 'et', 'vist', 'moralsk', 'Begreb', 'med', 'Ordet', 'Fruentimmer,', 'omendskjont', 'den', 'ikte', 'var', 'paa', 'det', 'Rene', 'med,', 'om', 'hun', 'skulde', 'regnes', 'til', 'Dyr', 'eller', 'Menneske.', 'At', 'den', 'Tids', 'intelligente', 'Mcend', 'med', 'Digterne', 'i', 'Spidsen', 'betydeligt', 'formildede', 'denne', 'barbariske', 'Tilstand,', 'er', 'jo', 'sikkert', 'not.', 'Der', 'gives', 'Mcend,', 'til', 'deres', 'Ære', 'vcere', 'det', 'sagt,', 'hvem', 'det', 'vilde', 'vcere', 'umuligt', 'at', 'behandle', 'sin', 'Hustru,', 'eller', 'hvillenlomhelst', 'anden', 'Kvinde,', 'anderledes', 'end', 'med', 'Finhed,', 'selv', 'om', 'hun', 'stod', 'dybt', 'under', 'ham,', 'hvor', 'meget', 'mindre', 'da,', 'naar', 'hun', 'i', 'enhver', 'Henseende', 'var', 'ham', 'vcerdig', 'eller', 'jevnbyrdig.', 'Men', 'som', 'bekjendt', 'er', 'de', 'cegte', 'Perler', 'altid', 'sjeldnere', 'end', 'Flintesten', 'og', 'andet', 'Grus.', 'De', 'to', 'Modstandere,', 'som', 'nu', 'staa', 'ligeoverfor', 'hinanden', 'paa', 'Krigsskuepladsen,', 'fremstille', 'ogsaa', 'de', 'to', 'modsatte', 'Poler', 'i', 'Mandends', 'Forhold', 'til', 'Kvinden.', 'Tyskerne', 'vil', 'have', 'det', 'som', 'Fyrsten,', 'han', 'vil', 'helst', 'sidde', 'i', 'Sofaen', 'i', 'Slobrok', 'og', 'Tøfler', 'med', 'en', 'lang', 'Pibe', 'i', 'Munden', 'og', 'have', 'Kvinden', 'dyrkende,', 'kncelende', 'og', 'bcevende', 'foran', 'sig,', 'medens', 'han', 'fra', 'Tid', 'til', 'anden', 'af', 'Scer', 'Naade', 'udrcekker', 'sin', 'Haand', 'for', 'at', 'hun', 'kan', 'faa', 'kysse', 'paa', 'den.', 'For', 'Franskmanden', 'derimod', 'er', 'det', 'uadskilleligt', 'fra', 'hans', 'Natur', 'og', 'Bevidsthed', 'at', 'bringe', 'hende', 'sin', 'Hylding', 'og', 'han', 'finder,', 'at', 'Livet', 'saaledes', 'bliver', 'skjonnere.', 'Jeg', 'er', 'heri', 'enig', 'med', 'ham,', 'og', 'tror', 'ikke,', 'at', 'det', 'er', 'alene', 'fordi', 'jeg', 'er', 'Kvinde,', 'at', 'jeg', 'tcenker', 'saa;', 'den', 'tyske', 'Maade', 'finde', 'jeg', 'derimod', 'rent', 'ud', 'sagt', 'vcemmelig', 'og', 'muhamedansk.', 'Tyskeren', 'scette', 'sig', 'i', 'Selskab', 'selv', 'tilbords,', 'og', 'lader', 'Kvinden', 'staa', 'bag', 'sin', 'Stol', 'for', 'at', 'opvarte', 'sig.', 'Franskmanden', 'vilde', 'rimeligvis', 'ikke', 'engang', 'kunne', 'udholde', 'et', 'saadant', 'Syn,', 'men', 'strax', 'forlade', 'et', 'Selskab,', 'hvor', 'det', 'gik', 'saaledes', 'til;', 'jeg', 'kalder', 'en', 'saadan', 'Levemaade', 'sydhavsoisk.', 'Da', 'jeg', 'allerede', 'har', 'ncrvnt', 'Krigsskuepladsen,', 'saa', 'kan', 'jeg', 'ikke', 'modstaa', 'min', 'Lyst', 'til', 'at', 'pege', 'hen', 'paa', 'det', 'store', 'Livsbillede,', 'som', 'nu', 'udfolder', 'sig', 'for', 'vore', 'Oine.', 'Jeg', 'vil', 'sammenligne', 'Osterrigernes', 'og', 'Preussernes', 'Adfcerd', 'i', '1863—64,', 'da', 'disse', 'to', 'Stormagter', 'allierede', 'sig', 'for', 'at', 'overfalde', 'det', 'lille', 'Danmark,', 'og', 'bagefter', 'ikke', 'skammede', 'sig', 'for', 'at', 'prale', 'med', 'denne', 'Heltedaad,', 'med', 'den', 'Adferd,', 'som', 'Skabningens', 'Herre', 'viste,', 'da', 'han', 'med', 'Lovens', 'Jernaag', 'i', 'Haanden', 'kuede', 'det', 'stakkels', 'Fruentimmer,', 'og', 'siden', 'triumferede', 'over', 'sit', 'Herredomme.', 'Ligeledes', 'vil', 'jeg', 'sammenligne', 'John', 'Stuart', 'Mill', 'og', 'alle', 'de', 'andre', 'Forkjcempere', 'for', 'Kvinden', 'og', 'hendes', 'Sag,', 'og', 'alle', 'de', 'cedle', 'Mcend,', 'der', 'tcenke', 'som', 'dem', '(deres', 'Tal', 'er', 'stort),', 'med', 'Kceiser', 'Napoleon,', 'der', 'nu', 'udsender', 'sine', 'as', 'alle', 'ridderlige', 'Folelser', 'besjcelede', 'Franskmcend,', 'med', 'deres', 'af', 'Hceder', 'straalende', 'Bajonetter,', 'for', 'at', 'tugte', 'disse', 'preussiske', 'Pralhanse,', 'og', 'udraade', 'et:', 'held', 'for', 'det', 'franske', 'Vaaben.'], [], [], []]\n"
     ]
    }
   ],
   "source": [
    "print(corpus)"
   ]
  },
  {
   "cell_type": "markdown",
   "metadata": {},
   "source": [
    "### Frekvenslister for å lage stoppord"
   ]
  },
  {
   "cell_type": "code",
   "execution_count": 5,
   "metadata": {
    "extensions": {
     "jupyter_dashboards": {
      "version": 1,
      "views": {
       "grid_default": {
        "col": 0,
        "height": 14,
        "hidden": false,
        "row": 12,
        "width": 4
       },
       "report_default": {
        "hidden": false
       }
      }
     }
    },
    "scrolled": true
   },
   "outputs": [],
   "source": [
    "freqs = tm.corpusfreq(corpus)"
   ]
  },
  {
   "cell_type": "code",
   "execution_count": 6,
   "metadata": {},
   "outputs": [
    {
     "data": {
      "text/plain": [
       "[('at', 228),\n",
       " ('og', 205),\n",
       " ('i', 134),\n",
       " ('som', 119),\n",
       " ('en', 113),\n",
       " ('det', 101),\n",
       " ('er', 91),\n",
       " ('for', 86),\n",
       " ('den', 86),\n",
       " ('til', 73),\n",
       " ('med', 65),\n",
       " ('har', 61),\n",
       " ('hun', 60),\n",
       " ('ikke', 57),\n",
       " ('saa', 52),\n",
       " ('sig', 52),\n",
       " ('af', 51),\n",
       " ('han', 50),\n",
       " ('et', 49),\n",
       " ('jeg', 48)]"
      ]
     },
     "execution_count": 6,
     "metadata": {},
     "output_type": "execute_result"
    }
   ],
   "source": [
    "freqs.most_common(20)"
   ]
  },
  {
   "cell_type": "markdown",
   "metadata": {
    "extensions": {
     "jupyter_dashboards": {
      "version": 1,
      "views": {
       "grid_default": {},
       "report_default": {
        "hidden": false
       }
      }
     }
    }
   },
   "source": [
    "### Lag  selve stoppordliste\n",
    "\n",
    "Ordlista kan endres ved å legge til og trekke fra. \n",
    "\n",
    "Paramateret **freqs.most_common()** kan endres for å få andre stoppordlister. Ord som er tatt ut kan legges inn igjen. "
   ]
  },
  {
   "cell_type": "code",
   "execution_count": 21,
   "metadata": {},
   "outputs": [],
   "source": [
    "korpus_stopp = dict({x[0]:freqs[x[0]] for x in freqs.most_common(20)})"
   ]
  },
  {
   "cell_type": "markdown",
   "metadata": {},
   "source": [
    "**Sjekk ut hva som fjernes...**"
   ]
  },
  {
   "cell_type": "code",
   "execution_count": 22,
   "metadata": {},
   "outputs": [
    {
     "name": "stdout",
     "output_type": "stream",
     "text": [
      "dict_keys(['at', 'og', 'i', 'som', 'en', 'det', 'er', 'for', 'den', 'til', 'med', 'har', 'hun', 'ikke', 'saa', 'sig', 'af', 'han', 'et', 'jeg'])\n"
     ]
    }
   ],
   "source": [
    "print(korpus_stopp.keys())"
   ]
  },
  {
   "cell_type": "code",
   "execution_count": 23,
   "metadata": {},
   "outputs": [],
   "source": [
    "del korpus_stopp['har']"
   ]
  },
  {
   "cell_type": "code",
   "execution_count": 24,
   "metadata": {},
   "outputs": [],
   "source": [
    "mystop = dict({\"over\":1, \"ved\":1})"
   ]
  },
  {
   "cell_type": "code",
   "execution_count": 25,
   "metadata": {},
   "outputs": [],
   "source": [
    "korpus_stopp.update(mystop)"
   ]
  },
  {
   "cell_type": "markdown",
   "metadata": {
    "extensions": {
     "jupyter_dashboards": {
      "version": 1,
      "views": {
       "grid_default": {
        "col": 0,
        "height": 4,
        "hidden": false,
        "row": 46,
        "width": 4
       },
       "report_default": {
        "hidden": false
       }
      }
     }
    }
   },
   "source": [
    "## Topic model NMF "
   ]
  },
  {
   "cell_type": "markdown",
   "metadata": {
    "extensions": {
     "jupyter_dashboards": {
      "version": 1,
      "views": {
       "grid_default": {
        "col": 0,
        "height": 4,
        "hidden": false,
        "row": 56,
        "width": 12
       },
       "report_default": {
        "hidden": false
       }
      }
     }
    }
   },
   "source": [
    "**Modeller tema/topic**\n",
    "\n",
    "\n"
   ]
  },
  {
   "cell_type": "markdown",
   "metadata": {
    "extensions": {
     "jupyter_dashboards": {
      "version": 1,
      "views": {
       "grid_default": {
        "col": 0,
        "height": 11,
        "hidden": false,
        "row": 60,
        "width": 12
       },
       "report_default": {
        "hidden": true
       }
      }
     }
    },
    "slideshow": {
     "slide_type": "slide"
    }
   },
   "source": [
    "\n",
    "Parametrene spesifiseres i kallet til **tm.modeller()** eller **tm.modeller_set()** på den her måten:\n",
    "\n",
    "<p style=\"font-family:courier\">tm.modeller(**teksten**, *tema*=**10**, *chunk_size*=**1000**, *topic_size*=**20**, *stop_words*=**stop_words**)</p>\n",
    "<p style=\"font-family:courier\">tm.modeller_set(**liste_av_tekster**, *tema*=**10**, *chunk_size*=**1000**, *topic_size*=**20**, *stop_words*=**stop_words**)</p>\n",
    "\n",
    "Forskjellen på de to er at med *modeller()* er det bare en tekst som modelleres, mens for *modeller_set()* er det flere tekster. "
   ]
  },
  {
   "cell_type": "code",
   "execution_count": 26,
   "metadata": {
    "extensions": {
     "jupyter_dashboards": {
      "version": 1,
      "views": {
       "grid_default": {
        "col": 0,
        "height": 35,
        "hidden": false,
        "row": 71,
        "width": 4
       },
       "report_default": {
        "hidden": false
       }
      }
     }
    },
    "slideshow": {
     "slide_type": "subslide"
    }
   },
   "outputs": [
    {
     "data": {
      "text/plain": [
       "['Du, Dig,, skal, Jeg, hvad, om, har, dette, ham,, se,, Tillid, tales, hore,, mcerkede,, Ti,',\n",
       " 'har, mere, kogt, om,, vil, dem, selv, give, Engstelse, Indbildning,, ligegyldig., udtalte, ytrede, Forandring,, Anordning',\n",
       " 'vil, vcere, ganske, Hvor, Kvinde), (Mand, paa, Kvinden, da, dem:, Jorden, Eder, mere,, Tid,, alene,',\n",
       " 'Du, vilde, har, mere, Ret;, lader, Dine, vi, gjore, Vcesen,, man, hos, lceste, Overbevisning., uddanne',\n",
       " 'de, end, nye, hos, har, mere, havde, Mand, Kvinde, da, under, ncesten, Begrebsforvirring, selv,, bekjendt',\n",
       " 'hendes, de, raa, der, hele, Natur, betydelig, ydre, stilles, Nervesystem,, skjsnneste, forer, Alt, virkeliggjort, Vanen,',\n",
       " 'mere, har, Herre, Gud, Skabningens, jo, mig., fuldkommen, end, Halvdel, forncermer, ringe, indviklet,, Sands,, aabenbart',\n",
       " 'vilde, nogen, vi, sin, Kvinde, eller, Kvinde,, hvad, hende, ligesaa, Tcenkemaade,, fore, stor,, tror,, saa,',\n",
       " 'eller, end, to, de, vcere, vil, staa, Men, bekjendt, umuligt, altid, andet, Forhold, Henseende, De',\n",
       " 'Mand, deri,, Kvinde., Guds, Skjonhed,, forste, Billede,, Mennesket, Menneskets, paa, Herlighed, Alle, store, Vcerker, saameget',\n",
       " 'har, lige, gjennem, der, Der, ihukommcr, Herren, nu,, Ord:, gives, sit, forste, nedvcerdiget, vcere, det.',\n",
       " 'da, maatte, Protest,, mod, denne, dette, Kvinde, hvormed, Mill,, varmeste, bar, enten, Fordommens, bcere, vaagen',\n",
       " 'mellem, mere, Forhold, alle, Konge, Menneskeheden, Bevidsthed, Indvirkning,, saaledes,, livegen,, forrige, Scnest, Aarhundrede:, forståa, Undersaat,',\n",
       " 'hvormed, blev, sin, Begrebernes, Frimodighed, vanskelige, nu, lcegge, Forvirring, Maalestok, vender, Hvorledes, Frimodighed,, senere, Om',\n",
       " 'havde, kan, gaa, da, man, om, end, mere, fra, Hun, Brev, norske, Herrerne, Bemcerlning,, pinlig',\n",
       " 'vcere, Du, denne, skulde, vil, kan, skal, skrevet, erncere, Skrifter,, fuld, lcese, Fordomme., elske, Papirer;',\n",
       " 'vil, bliver, trælbunden, fri, dog, vceret, Jeg, Guds, vist, har, kun, Mand, Kvinde,, Mand., Forbigaaende',\n",
       " 'sin, derimod, Franskmanden, fra, Kvinden, kysse, Naade, Haand, Hylding, Natur, den., opvarte, Tyskeren, skjonnere., heri',\n",
       " 'kunde, samme, nogen, de, hendes, sit, Manden,, havde, egne, satte, tilvcerelse., Lov, Oine, nedvcerdige, Kun',\n",
       " 'havde, var, tilegnet, fandt, da, ham, men, sin, anmode, Egenskab, tusinde, al, Og,, Alt., Alt,',\n",
       " 'da, vcere, Herrens, Nogen, Manden:„lor, opfylde, Kan, Jorden, sand, Hjcelperske,, skabde, Sandhed, skabte, Forkuelse,, Forfatterinde,',\n",
       " 'paa, tusinde, selv, vi, har, disse, der, nåar, Byrde, foler,, foler, den;, udvitke,, Me, kraftige',\n",
       " 'var, Mand, ung, vilde, fra, Det, om, Men, megen, sig,, Have, virkelig, betydningsfuldt, virkelige, Smil?',\n",
       " 'har, hende, Fruentimmeret, kan, der, fra, Hun, Herre, vcere, have, Det, sit, ser, Fysik, sige',\n",
       " 'Vcesen, blive, have, har, der, Frihed,, om,, At, egentlig, var., utroligt, selvfolgelig, Henseende, Begrebet, vcrret',\n",
       " 'stcerk, hende, mere, har, Talent,, Lys,, Sjcel, passende, Kjon”, knust,, Aand., litercert, Tider,., rige, Grunde',\n",
       " 'hele, scette, sine, Det, hende., har, dette, paa, umandig, Kreds, Ridder, an., bred,, optager, Klang,',\n",
       " 'Feil, end, var, denne, Mand, Kvinde, hvad, ham., anfore, opvarte, etter, Begyndelsen, bedre,, Overbevisning,, alt,',\n",
       " 'kan, Dyr, os, hende, der, selv, Hun, beskjceftige, los, lidt, levnet, eneste,, Planter,, rigtig, ovenfor,',\n",
       " 'Han, de, end, mere, Kvinde, sin, nogen, hin, udstralte,, afrivcr, forbause;, fordrct., flygte, fordrer, Distinktioner',\n",
       " 'hende, staa, os, paa, „som, Stillinger,, Ligesaa, Herrerne, haandfaste, ncerliggende, legte, ynkelig, ofte, nye, hvormed',\n",
       " 'mig, ham., eller, Jeg, nåar, Skabningens, der, har, Gang, behandle, kommer, selv,, Udtrykket, gjentage, bencevne',\n",
       " 'ogsaa, havde, kan, mindste, Begge, protesterende, folt, faaet, Parter, baade\", leve, omhyggelig, ren, befrier, du',\n",
       " 'sammenligne, da, vil, prale, Lyst, Adfcerd, Adferd,, Krigsskuepladsen,, Danmark,, pege, skammede, ncrvnt, triumferede, lille, allierede',\n",
       " 'var, jo, os, intelligente, betydeligt, Menneske., sydhavsoisk, Flerkoneri, Tilstand,, med,, Tilstand, not., Rene, ikke., muhamedansk,',\n",
       " 'sin, var, har, ogsaa, Stilling,, inden, imidlertid, Hustru, I, I6de, Jonas, undertrykt, Juli,, befriedes, Lie',\n",
       " 'Hustruen, halv, der, ogsaa, hver, tog, Stette, Sted,, Sit., skede, stred, sunket, for., Omvceltning,, Formuen,',\n",
       " 'har, hendes, hende, Bevidsthed, Kvinde, om, sin, vcere, vort, Rosten, Rost., kjcer, klar,, Menneskevcerdighed,, talt.',\n",
       " 'hvor, hende,, blev, havde, hendes, lavest;, underordnede, Mad, Anklager, overladt., over,, svag, Ordsprog,, Mcendme, Stikkerier',\n",
       " 'var, Men, Liv, naa, skal, havde, vcere, paa, hendes, fra, der, derved, end, studeret, magtpaaliggcnde',\n",
       " 'Grad, mere, Kvinden, de, Mandens, Og, kvindelig?, Protesten,, Maa, unddrage, opvarte,, hert, Lasaretterne, kvindelig,, Lceger',\n",
       " 'Lcerdom, mere, paa, fri, Exempel., Natur,, Livs, Baand,, Boliger,, udvortes, givne, nyde, sin,, fyrstelige, Formue',\n",
       " 'man, da, bleve, blev, de, der, dette, selv, endnu, Oplysning, aldrig, vaagede, Anskuelse, forbedre, Ret.',\n",
       " 'var, har, have, man, havde, gaar, mig., Dig, Befrier!, Rusland, unge, ytret, opmuntret, Dig., Harme.',\n",
       " 'har, aldrig, paa, al, !, vcere,, selvstcendig, man., trykket, Ovrige,, Skyggebillede, Skyggen,, strider, Huset, betegnende',\n",
       " 'kan, hvorledes, vi, har, vil, hidscette, naaede, ihcende, fremkaldt, Indre, undres, Leir., Tidsaanden, ville., folte',\n",
       " 'atter, sin, Gud, paa, ogsaa, trives, Skam, skabte., skabte,, ynkelig, forbi., Gang, beskrevet., fortrok, opsvulmede',\n",
       " 'var, Forsog, fra, mere, jo, kunde, hendes, kjendt, vel, Aands, Fjeldbygderne, Higen., offentliggjore, Nogle, Lyset,',\n",
       " 'Glcede, det,, ingen, ham, Gud, vcere, sin, vil, ogsaa, Nu, Digterens, givet, hoie, Aand\"., Skabningcns',\n",
       " 'var, der, betyde, os, kan, hende, sine, end, aldeles, Samtidige,, Kvinde., Aandsslovhed, ubegribelig, passede, jomfrubur',\n",
       " 'skal, Del, dit, „han, Du, sagde, Det, bemcerkes, Ansigts, stabte, herske, paalcegges, Herren:, Ulydighed, Hertil',\n",
       " 'Rige., Lysets, denne, horer, om, hende, vil, fremme, Tvran,, ifore, taler,, Fyrste, beder, betcente,, Bevcegelser,',\n",
       " 'blev, de, netop, samme, nye, begyndte, paa, sige, store, Skueplads,, Historiens, Oplysningens, historiske, Lighed, seirede',\n",
       " 'blevet, vilde, da, Hovmod, udhceves, tilfoye, Indrommelse,, modarbeide, aldeles, altsa, fuldstcendiggjore, ogsaa., Forholdet., ene, overse',\n",
       " 'Veir,, kommer, skal, Guds, der, da, vcere, vil, Nu, „hun, Herre?\"\", «leg, dreier, stotte, Folkehob,',\n",
       " 'alle, var, os, andre, Forhold, da, indtil, min, blevet, forrige, Slovhed, omdannede, indrettet, Aarhundrede,, Kvinderne;',\n",
       " 'vor, os, nu, har, vil, alle, betegne, Tiber,, Nodvendighed, liden, ytrer:, legemlige, egen, stjon,, uundgaaelig',\n",
       " 'os, der, de, erindre, Mede, stemplede, virkelige, stjon, Omvceltninger, Tider,, begrunde, stridende, Paastand, sande, unodige,',\n",
       " 'meget, have, kan, vcere, offentligt,, Mandens\",, Vane,, Enhver, optrcede, Kvindekjonnet, Kvindens,, Protesten:, Lignende;, f., Sammenligning',\n",
       " 'var, naturligvis, noget, ham, vil, ogsaa, faa, hjcelpe, begge, gjorde, megen, Verden., sligt., vant., Fordring.',\n",
       " 'mod, selv, Gud, Skabningens, paa, da, tilbage, gjcelder, Kvinden., I, ligeoverfor, Skabning,, gode, Planter, Hovedet',\n",
       " 'alle, der, de, tcenke, Mcend,, Sag,, Tal, Franskmcend,, straalende, Napoleon,, preussiske, tugte, udsender, Hceder, udraade',\n",
       " 'om, udscette, Ekko, Passivitet,, Anmasselse.”, Tilgivelse, udtalt, forstottede, Anskuelse,, ledsaget, tilfceldig,, bonfaldt, telegrafisk, ubeskeden, en.saadan,',\n",
       " 'dette, paa, Felt., ogsaa, tcenker, sagt, kogt, om,, Protest, stor,, stal, hvorvidt, Anordning, ligegyldig., Anelse',\n",
       " '„som, Skabning,, Skranken., Skranke,, Skjul, Skjonhed,, Skjonhed, Skjold., Skjcebne, Skin, Skilsmisse, Skikkelse, Skam, Skala,, Skabninger']"
      ]
     },
     "execution_count": 26,
     "metadata": {},
     "output_type": "execute_result"
    }
   ],
   "source": [
    "tm.modeller_set(corpus, tema=65, chunk_size=75, stop_words = korpus_stopp, topic_size=15)"
   ]
  },
  {
   "cell_type": "code",
   "execution_count": 16,
   "metadata": {
    "scrolled": false
   },
   "outputs": [
    {
     "data": {
      "text/plain": [
       "['har, kogt, trælbunden, fri, om,, bliver, Mcend, blot, altid, fik, kvindelige, fuldlommen, nok, for,, intelligente',\n",
       " 'Kvinde), (Mand, Manden,, Menneske,, ganske, ovrige, alene, sagde, Mennesket, tale, Plads,, ncevner, isolere, tort, hermed',\n",
       " 'sagde, (Manden), Veir,, Kvinden:, hos, kommer, Medhjcelp,, sig,, egentlig, Vcesentlige,, Herren:, hellige, fremfores, Herre?\"\", laget',\n",
       " 'Han, ligesom, Mill, tilbage, fast, Lad, tide, nogcn, Fcestningsvcerter,, Mod, Kjon,, tilbage!\", An, bombefaste, Skulderprydelser.',\n",
       " 'se, ille, grue, nemlig, hvormed, Brev, Morgenbladet,, 1870, konservative, Protest, «Det, stor,, hore, virkeligt, Sag',\n",
       " 'samme, Loven, gjennem, har, hele, nemlig, For, satte, Vcesen,, naa, Bevidsthed., lange, Gjerning, modsatte, hvem',\n",
       " 'Hvor, hende., hele, har, At, Mineralier, Magtstilling., Klang,, benegte, Adfcerd,, skildre., Veste-Brunen, Manovre, isolerede, denne,',\n",
       " 'begyndte, netop, samme, nye, har, Hvad, Natur, Vcesen, Frihed,, Oplysning, Ideer, Banner,, trcengte, formaaet., Broderssab,',\n",
       " 'Damerne, Ret;, lader, har, nogle, hidscette, gamle, For, faldt, komme, Dyr,, Begreb, ham., afhcengig, Manden.',\n",
       " 'har, Dig,, til., se,, Dine, ham,, Oine, egne, dem., igjen, sy, skadt, Oren,, Skyld,, voger',\n",
       " 'Silkebaand, Damerne, gaa, fom, celdre,, leve, tydelig, foregaa, interesserede, interesserer, Nei,, yngre, Der,, folt, pinlig',\n",
       " 'kunne, ham., samme, dog, nåar, har, Manden,, Begeistring,, dets, Sindsforirring, modt, soler, Smil?, udvendigt, behager',\n",
       " 'ligger, Skjonhed,, deri,, Billede,, Kvinde., Menneskets, Mennesket, saameget, Maade,, ncesten, skable, udhceves, kjent., Billede;, dem”.',\n",
       " 'halv, Dette, gjorde, ovrige, Begreb, civiliserede, ikke., mandlige, bestaaende, Rene, tillod, Europa, tog, vcergede, Midler',\n",
       " 'I, raa, siger, hvormed, har, fandt, For, hele, ser, ligeoverfor, nåar, Protestens, uden, gode, Natur',\n",
       " 'ung, har, nye, hos, Man, I, Luft, mere,, selv,, andet, virkelige, Begrebsforvirring, bekjendt, Sang,, synge',\n",
       " 'staa, tusinde, vist, hjcelpe, har, ligeoverfor, Nu, alene, Skabning,, Vcesen, Mcend,, Kvinder, vel, gaa, liden',\n",
       " 'staaende, andre, saameget, udtale, derimod, forrige, gjceldende, Uretfcerdigheden, trykker, indrettet, Kvinderne;, udsogt, Princip,, berovede, misbruger',\n",
       " 'Franskmanden, derimod, saaledes, saadan, engang, ud, Da, Selskab, heri, Levemaade, Livet, Syn,, pege, Hylding, Selskab,',\n",
       " 'bleve, At, bidrog, Bevidsthcd,, Tale, herved, ske, forvirre, uklart, Almuens, Forbryderne, Lidende, behandlede,, behandlede, erkjendt,',\n",
       " 'Lcerdom, Liv, derved, altid, stod, andet, Hun, ville, umuligt, helst, enhver, Maal,, alt, endnu, Tryl,',\n",
       " 'hvormed, saadan, Skabning, mcrrkeligt, Hvorledes, betydningsfuld, Veninde?!, Mandens\",, Hvillen, fremdeles, endog, Virkning!, voget, ringeste, mcegtige',\n",
       " 'har, dit, gjennem, lige, Hans, ligesom, Kvindens, det., Nåar, faar, Stov, Aarhundreder, tilsidesat,, mishandlet, fyldelig',\n",
       " 'gjcelder, I, har, At, vundet, lcener, sunde, Haand., forncermer, forsoge, Vikeligheden, ncegtet, balsamere, veret, lofter',\n",
       " 'atter, har, saaledes, Tid, mine, Grimase, givet, skabte,, «Kvinde\",, skabte., Forudsigele,, fortrok, forbi., siden., Elitlclse',\n",
       " 'raa, Mill, fom, ligesom, I, Her, tilegnet, Hvad, blot, Kvinden:, „hun, Verden, Maade, den,, Personlighed',\n",
       " 'andet, Dette, ingen, tyske, sammen, levnet, lidt, los, Menneske)., ncevnet, opsvulmet., Aandsslovhed, Kvindekammer, passede, Fruentimmer”.',\n",
       " 'mangt, Forsog, Hvor, ingen, Levning, Fruentimmer,, Virksomhed, ncevnte, uoverstigelig, offentliggjore, Skjcebne, Andsfortcerelse, Fortcellinger, Fortvivlelse., i,',\n",
       " 'Grad, Manden,, eget, bor, sidste, beundre?, saarede, Lasaretterne, opvarte,, overensstemmende, Krim,, Krigsskuepladsen, personligt, pleie, reise',\n",
       " 'altid, har, egne, ingen, viste,, imod,, viste, voeret, praktiske, overladt., forbausende, Hoihed, vcrret, udbredt, delte',\n",
       " 'Feil, vare, hende,, vise, anfore, uduelig, Mcendene,, Modepynt,, Saa, opvarte, Exempel,, naar, smaalige, saarende, alt,',\n",
       " 'blevet, har, Mill, Hvad, Her, tilegnet, fik, fandt, under, Plads, alene,, naar, ret, Navn, gjore,',\n",
       " 'opfyldt,, frygte, Protestens, Forfatterinde, Mennesket, sagde, Eder, Jorden, dem:, lykkes, Billede,, skabte, skabde, synes, underdanig\\'?\"',\n",
       " 'to, At, da,, Tyskerne, cegte, Slobrok, Sofaen, bcevende, Spidsen, Grus., Fyrsten,, Tilstand,, Tøfler, Flintesten, sikkert',\n",
       " 'Protest,, hvorledes, har, engstelig, Mcendene,, Fordommens, brede, ncervcerende, udsivnger, herlige, udtaler, Ytringer, aandede, forvandlet, ville.',\n",
       " 'sammenligne, Mill, to, Mcend,, andre, Haanden, Vaaben., Napoleon,, Jernaag, skammede, besjcelede, Heltedaad,, triumferede, overfalde, Adfcerd',\n",
       " 'Bestemmelse,, Forhold,, vor, har, hvis, ja, Tiber,, fyldestgjore, Omvceltninger, maaske, legemlige, ytrer:, arbeidet, omfattende, egen',\n",
       " 'har, dog, Alle, nemlig, Og, blevet, fordi, Menneskeheden, alle,, Kvinde., aldeles, mange, langt, Undergivne,, vidt',\n",
       " 'vise, har, engang, Mill, stolt, under, De, hore,, baaret, vide, opmuntret, Rusland, Sibirien, indbyrdes, begyndt',\n",
       " 'har, Bevidsthed, Mill, medens, Hun, blevet, maatte, se, Vi, staar, vort, inden, Kryben, Smigren, Kvindernes',\n",
       " 'har, saadan, nåar, betyde, !, Forfatterinden, Huset, negativ, pinligste, Fruentimmertilvcerelse:, Fru, selvstcendig, sidderlidt, sige., Fordring',\n",
       " 'har, hvis, Hustruen, Tilstand, undertrykt, stred, Huset,, Hustru, Folkebladet, bekvemme, Slaveri, hvoraf, Land., varede, skede',\n",
       " 'har, Fruentimmeret, Protesten, bliver, faa, begge, Rose,, Kemi,, Menneskerettigheder,, svommer,, frisk, Verden., indtaget, Fysik, trukket',\n",
       " 'Lysets, Rige., horer, ham,, Tids, Trceldom, Lov,, Tvran,, taler,, Aand, Esaias, hjemme, fremme, fuldtomne, Frihedens',\n",
       " 'naturligvis, hvis, Verden., Unytte, Fruentimmer, duede, bare, Fik, noget,, Stakkar,, fornsiet;, fornoiet;, fornoiet,, fornoiet!, ingenting',\n",
       " 'muligt, fom, forstottede, bonfaldt, paa,, tilfceldig,, udscette, ledsaget, sidst, Anmasselse.”, fattet, udtalt, telegrafisk, Anskuelse,, Blik,',\n",
       " 'ingen, stcerk, har, hvis, ovenfor, Glcede, underligt, saadan,, Kjon”, Fremfcerd., litercert, Tider,., troede, Mangel, skjonne',\n",
       " '„som, Skabning, Skam, Skala,, Skabninger, Skabningcns, Skabning?, Skabning,, Skaberens, Skilsmisse, Skaberen, Skaber., Skabelse, Sjcel, Sit.',\n",
       " '„som, Skabning, Skam, Skala,, Skabninger, Skabningcns, Skabning?, Skabning,, Skaberens, Skilsmisse, Skaberen, Skaber., Skabelse, Sjcel, Sit.',\n",
       " '„som, Skabning, Skam, Skala,, Skabninger, Skabningcns, Skabning?, Skabning,, Skaberens, Skilsmisse, Skaberen, Skaber., Skabelse, Sjcel, Sit.']"
      ]
     },
     "execution_count": 16,
     "metadata": {},
     "output_type": "execute_result"
    }
   ],
   "source": [
    "tm.modeller_set(corpus, tema=50, chunk_size=75, stop_words = korpus_stopp, topic_size=15)"
   ]
  },
  {
   "cell_type": "code",
   "execution_count": null,
   "metadata": {},
   "outputs": [],
   "source": [
    "*"
   ]
  }
 ],
 "metadata": {
  "anaconda-cloud": {},
  "extensions": {
   "jupyter_dashboards": {
    "activeView": "report_default",
    "version": 1,
    "views": {
     "grid_default": {
      "cellMargin": 10,
      "defaultCellHeight": 20,
      "maxColumns": 12,
      "name": "grid",
      "type": "grid"
     },
     "report_default": {
      "name": "report",
      "type": "report"
     }
    }
   }
  },
  "kernelspec": {
   "display_name": "Python 3",
   "language": "python",
   "name": "python3"
  },
  "language_info": {
   "codemirror_mode": {
    "name": "ipython",
    "version": 3
   },
   "file_extension": ".py",
   "mimetype": "text/x-python",
   "name": "python",
   "nbconvert_exporter": "python",
   "pygments_lexer": "ipython3",
   "version": "3.7.4"
  }
 },
 "nbformat": 4,
 "nbformat_minor": 1
}
